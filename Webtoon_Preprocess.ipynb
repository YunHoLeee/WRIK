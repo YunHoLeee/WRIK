{
 "cells": [
  {
   "cell_type": "code",
   "execution_count": 1,
   "metadata": {},
   "outputs": [],
   "source": [
    "import pandas as pd\n",
    "import numpy as np\n",
    "from kiwipiepy import Kiwi\n",
    "kiwi = Kiwi(model_type='sbg')\n",
    "from tqdm.auto import tqdm\n",
    "tqdm.pandas()\n",
    "import multiprocessing as mp\n",
    "from functools import partial\n",
    "from collections import Counter\n",
    "import re\n",
    "from collections import Counter\n",
    "import matplotlib.pyplot as plt\n",
    "import matplotlib.font_manager as fm\n",
    "from gensim.models import Phrases\n",
    "from gensim.models.phrases import Phraser\n",
    "\n",
    "# 나눔고딕 폰트 경로 설정 (시스템에 따라 경로가 다를 수 있습니다)\n",
    "# font_path = r'C:\\Windows\\Fonts\\NanumGothic.ttf'  # Windows 기준\n",
    "font_path = '/usr/share/fonts/truetype/nanum/NanumGothic.ttf'  # Linux 기준\n",
    "# font_path = '/Library/Fonts/NanumGothic.ttf'  # macOS 기준\n",
    "\n",
    "# 폰트 프로퍼티 설정\n",
    "font_prop = fm.FontProperties(fname=font_path, size=12)\n",
    "\n",
    "# 폰트 설정\n",
    "plt.rcParams['font.family'] = 'NanumGothic'\n",
    "plt.rcParams['axes.unicode_minus'] = False  # 마이너스 기호 깨짐 방지\n"
   ]
  },
  {
   "cell_type": "code",
   "execution_count": 23,
   "metadata": {},
   "outputs": [
    {
     "data": {
      "text/html": [
       "<div>\n",
       "<style scoped>\n",
       "    .dataframe tbody tr th:only-of-type {\n",
       "        vertical-align: middle;\n",
       "    }\n",
       "\n",
       "    .dataframe tbody tr th {\n",
       "        vertical-align: top;\n",
       "    }\n",
       "\n",
       "    .dataframe thead th {\n",
       "        text-align: right;\n",
       "    }\n",
       "</style>\n",
       "<table border=\"1\" class=\"dataframe\">\n",
       "  <thead>\n",
       "    <tr style=\"text-align: right;\">\n",
       "      <th></th>\n",
       "      <th>논문명</th>\n",
       "      <th>논문 ID</th>\n",
       "      <th>저자명</th>\n",
       "      <th>주저자 소속기관</th>\n",
       "      <th>학술지 ID</th>\n",
       "      <th>학술지명</th>\n",
       "      <th>저자키워드</th>\n",
       "      <th>초록</th>\n",
       "      <th>발행기관 ID</th>\n",
       "      <th>발행기관명</th>\n",
       "      <th>발행연도</th>\n",
       "      <th>대분류</th>\n",
       "      <th>중분류</th>\n",
       "      <th>종분류</th>\n",
       "      <th>URL</th>\n",
       "      <th>KCI 등재 구분</th>\n",
       "      <th>고유 학술지명</th>\n",
       "    </tr>\n",
       "  </thead>\n",
       "  <tbody>\n",
       "    <tr>\n",
       "      <th>0</th>\n",
       "      <td>디지털 컨텐츠 산업과 디지털 만화에 관한 연구</td>\n",
       "      <td>ART001039099</td>\n",
       "      <td>고은나</td>\n",
       "      <td>부천대학</td>\n",
       "      <td>SER000000642</td>\n",
       "      <td>일러스트레이션 포럼</td>\n",
       "      <td>NaN</td>\n",
       "      <td>디지털 기술의 발전은 사회문화 전반에 큰 파장을 일으키며 디지털 컨텐츠 산업을 빠른...</td>\n",
       "      <td>INS000000241</td>\n",
       "      <td>한국일러스트레이션학회</td>\n",
       "      <td>2006</td>\n",
       "      <td>예술체육학</td>\n",
       "      <td>디자인</td>\n",
       "      <td>디자인</td>\n",
       "      <td>https://www.kci.go.kr/kciportal/ci/sereArticle...</td>\n",
       "      <td>등재후보</td>\n",
       "      <td>한국일러스트레이션학회 - 일러스트레이션 포럼</td>\n",
       "    </tr>\n",
       "    <tr>\n",
       "      <th>1</th>\n",
       "      <td>웹 만화 &lt;위대한 캣츠비&gt;의 스토리텔링 구조 분석</td>\n",
       "      <td>ART001061496</td>\n",
       "      <td>이상민</td>\n",
       "      <td>가톨릭대학교</td>\n",
       "      <td>1717</td>\n",
       "      <td>대중서사연구</td>\n",
       "      <td>위대한 캣츠비, 웹 만화, 스토리텔링, 웹 미디어의 특징, 서사적 층위</td>\n",
       "      <td>웹 만화 위대한 캣츠비는 웹의 매체를 이용한 서정성 획득, 3중 구조에 따른 서사적...</td>\n",
       "      <td>INS000000103</td>\n",
       "      <td>대중서사학회</td>\n",
       "      <td>2007</td>\n",
       "      <td>복합학</td>\n",
       "      <td>학제간연구</td>\n",
       "      <td>학제간연구</td>\n",
       "      <td>https://www.kci.go.kr/kciportal/ci/sereArticle...</td>\n",
       "      <td>등재후보</td>\n",
       "      <td>대중서사학회 - 대중서사연구</td>\n",
       "    </tr>\n",
       "    <tr>\n",
       "      <th>2</th>\n",
       "      <td>DRM 기술을 활용한 디지털 만화 콘텐츠 서비스 시나리오 개발</td>\n",
       "      <td>ART001203561</td>\n",
       "      <td>오상훈;조현주;강지훈</td>\n",
       "      <td>한국디지털콘텐츠포럼</td>\n",
       "      <td>D00564</td>\n",
       "      <td>정보처리학회논문지D</td>\n",
       "      <td>DRM, 만화 콘텐츠, 유통 모델, 시나리오</td>\n",
       "      <td>현재 디지털 만화 컨텐츠의 온라인상에서의 유통은 불법유통 및 저작권 보호체계의 미비...</td>\n",
       "      <td>INS000000930</td>\n",
       "      <td>한국정보처리학회</td>\n",
       "      <td>2003</td>\n",
       "      <td>공학</td>\n",
       "      <td>0미분류0</td>\n",
       "      <td>공학</td>\n",
       "      <td>https://www.kci.go.kr/kciportal/ci/sereArticle...</td>\n",
       "      <td>등재</td>\n",
       "      <td>한국정보처리학회 - 정보처리학회논문지D</td>\n",
       "    </tr>\n",
       "    <tr>\n",
       "      <th>3</th>\n",
       "      <td>디지털 만화 콘텐츠 메타데이터 요소개발 및 적용</td>\n",
       "      <td>ART001203563</td>\n",
       "      <td>오상훈;조현주;이용배;강지훈;맹성현</td>\n",
       "      <td>명지대학교</td>\n",
       "      <td>D00564</td>\n",
       "      <td>정보처리학회논문지D</td>\n",
       "      <td>메타데이터요소(Metadata Element), 디지털콘텐츠 유통기술(DRM), 디...</td>\n",
       "      <td>디지털콘텐츠 서비스 유형이 다양해지면서 콘텐츠 유통에 참여하는 주체들(저작자, 가공...</td>\n",
       "      <td>INS000000930</td>\n",
       "      <td>한국정보처리학회</td>\n",
       "      <td>2004</td>\n",
       "      <td>공학</td>\n",
       "      <td>0미분류0</td>\n",
       "      <td>공학</td>\n",
       "      <td>https://www.kci.go.kr/kciportal/ci/sereArticle...</td>\n",
       "      <td>등재</td>\n",
       "      <td>한국정보처리학회 - 정보처리학회논문지D</td>\n",
       "    </tr>\n",
       "    <tr>\n",
       "      <th>4</th>\n",
       "      <td>한국의 만화산업 발전 정책에 관한 연구</td>\n",
       "      <td>ART001221834</td>\n",
       "      <td>김병수;윤기헌</td>\n",
       "      <td>조선대학교</td>\n",
       "      <td>1980</td>\n",
       "      <td>만화애니메이션연구</td>\n",
       "      <td>만화, 만화산업, 만화정책</td>\n",
       "      <td>우리나라 만화계가 장기침체에 빠져있다는 것은 1990년대 후반부터 누적되어 온 일반...</td>\n",
       "      <td>INS000002241</td>\n",
       "      <td>한국만화애니메이션학회</td>\n",
       "      <td>2007</td>\n",
       "      <td>예술체육학</td>\n",
       "      <td>예술일반</td>\n",
       "      <td>예술일반</td>\n",
       "      <td>https://www.kci.go.kr/kciportal/ci/sereArticle...</td>\n",
       "      <td>등재후보</td>\n",
       "      <td>한국만화애니메이션학회 - 만화애니메이션연구</td>\n",
       "    </tr>\n",
       "    <tr>\n",
       "      <th>...</th>\n",
       "      <td>...</td>\n",
       "      <td>...</td>\n",
       "      <td>...</td>\n",
       "      <td>...</td>\n",
       "      <td>...</td>\n",
       "      <td>...</td>\n",
       "      <td>...</td>\n",
       "      <td>...</td>\n",
       "      <td>...</td>\n",
       "      <td>...</td>\n",
       "      <td>...</td>\n",
       "      <td>...</td>\n",
       "      <td>...</td>\n",
       "      <td>...</td>\n",
       "      <td>...</td>\n",
       "      <td>...</td>\n",
       "      <td>...</td>\n",
       "    </tr>\n",
       "    <tr>\n",
       "      <th>665</th>\n",
       "      <td>사설시조를 활용한 &lt;시조웹툰&gt; 스토리텔링 전략 방안 연구</td>\n",
       "      <td>ART003042167</td>\n",
       "      <td>김지은</td>\n",
       "      <td>중앙대학교</td>\n",
       "      <td>SER000001538</td>\n",
       "      <td>다문화콘텐츠연구</td>\n",
       "      <td>사설시조, 시조웹툰, 스낵컬처, 웹툰, 시조카툰</td>\n",
       "      <td>디지털 시대로의 격변 속에서도 아직도 우리의 고전시가는 어두운 장막속에 가려진 채 ...</td>\n",
       "      <td>INS000005015</td>\n",
       "      <td>문화콘텐츠기술연구원</td>\n",
       "      <td>2023</td>\n",
       "      <td>사회과학</td>\n",
       "      <td>사회과학일반</td>\n",
       "      <td>기타사회과학일반</td>\n",
       "      <td>https://www.kci.go.kr/kciportal/ci/sereArticle...</td>\n",
       "      <td>등재</td>\n",
       "      <td>문화콘텐츠기술연구원 - 다문화콘텐츠연구</td>\n",
       "    </tr>\n",
       "    <tr>\n",
       "      <th>666</th>\n",
       "      <td>웹툰과 러시아 문예이론 – 러시아 형식주의를 중심으로 -</td>\n",
       "      <td>ART003044492</td>\n",
       "      <td>홍상우</td>\n",
       "      <td>경상국립대학교</td>\n",
       "      <td>1693</td>\n",
       "      <td>세계문학비교연구</td>\n",
       "      <td>러시아 형식주의, 웹툰, 낯설게 하기, 시청각 언어, 말풍선</td>\n",
       "      <td>본고는 국내에서 발표된 웹툰 작품을 러시아 형식주의 이론의 주요 개념으로 분석하려는...</td>\n",
       "      <td>INS000001882</td>\n",
       "      <td>세계문학비교학회</td>\n",
       "      <td>2023</td>\n",
       "      <td>인문학</td>\n",
       "      <td>문학</td>\n",
       "      <td>문학</td>\n",
       "      <td>https://www.kci.go.kr/kciportal/ci/sereArticle...</td>\n",
       "      <td>등재</td>\n",
       "      <td>세계문학비교학회 - 세계문학비교연구</td>\n",
       "    </tr>\n",
       "    <tr>\n",
       "      <th>667</th>\n",
       "      <td>웹툰 기반 OSMU 영상 콘텐츠의 만듦새에 관한 이용자들의 인식 연구: OSMU 태...</td>\n",
       "      <td>ART003044501</td>\n",
       "      <td>홍세민;이상우</td>\n",
       "      <td>연세대학교 정보대학원</td>\n",
       "      <td>SER000005593</td>\n",
       "      <td>비즈니스융복합연구</td>\n",
       "      <td>웹툰, OSMU 만듦새, 브랜드 확장, OSMU 태도, 웹툰 만족도</td>\n",
       "      <td>웹툰의 지속적인 성장과 함께, 웹툰 기반 OSMU 드라마, 영화 제작이 활성화되는 ...</td>\n",
       "      <td>INS000062611</td>\n",
       "      <td>한국비즈니스학회</td>\n",
       "      <td>2023</td>\n",
       "      <td>복합학</td>\n",
       "      <td>과학기술학</td>\n",
       "      <td>과학기술학</td>\n",
       "      <td>https://www.kci.go.kr/kciportal/ci/sereArticle...</td>\n",
       "      <td>등재</td>\n",
       "      <td>한국비즈니스학회 - 비즈니스융복합연구</td>\n",
       "    </tr>\n",
       "    <tr>\n",
       "      <th>668</th>\n",
       "      <td>만화 작가 화풍을 바탕으로 한 생성 AI의 구독제 서비스 탐구</td>\n",
       "      <td>ART003045213</td>\n",
       "      <td>장순규;권민지;여지민;이한나;최은우</td>\n",
       "      <td>계명대학교</td>\n",
       "      <td>SER000006249</td>\n",
       "      <td>미래문화</td>\n",
       "      <td>생성 AI, 구독제, 서비스 디자인, UX 디자인</td>\n",
       "      <td>최근, 생성 AI는 인간의 작품과 차이가 없을 높은 완성도의 이미지를 생성하고 있다...</td>\n",
       "      <td>INS000008744</td>\n",
       "      <td>한국미래문화연구소</td>\n",
       "      <td>2023</td>\n",
       "      <td>인문학</td>\n",
       "      <td>기타인문학</td>\n",
       "      <td>기타인문학</td>\n",
       "      <td>https://www.kci.go.kr/kciportal/ci/sereArticle...</td>\n",
       "      <td>등재후보</td>\n",
       "      <td>한국미래문화연구소 - 미래문화</td>\n",
       "    </tr>\n",
       "    <tr>\n",
       "      <th>669</th>\n",
       "      <td>『아메리카노 엑소더스』속 ‘마법소녀’에 관한 고찰 - 변신 모티프의 수용양상과 모바...</td>\n",
       "      <td>ART003050233</td>\n",
       "      <td>이황임</td>\n",
       "      <td>한양대학교</td>\n",
       "      <td>SER000006249</td>\n",
       "      <td>미래문화</td>\n",
       "      <td>마법소녀, 여성영웅, 변신, 모친 살해 모티프, 여장</td>\n",
       "      <td>본고는 마법소녀물의 형성 과정을 통시적으로 고찰하고, 웹툰 『아메리카노 엑소더스』가...</td>\n",
       "      <td>INS000008744</td>\n",
       "      <td>한국미래문화연구소</td>\n",
       "      <td>2022</td>\n",
       "      <td>인문학</td>\n",
       "      <td>기타인문학</td>\n",
       "      <td>기타인문학</td>\n",
       "      <td>https://www.kci.go.kr/kciportal/ci/sereArticle...</td>\n",
       "      <td>미등재</td>\n",
       "      <td>한국미래문화연구소 - 미래문화</td>\n",
       "    </tr>\n",
       "  </tbody>\n",
       "</table>\n",
       "<p>670 rows × 17 columns</p>\n",
       "</div>"
      ],
      "text/plain": [
       "                                                   논문명         논문 ID  \\\n",
       "0                            디지털 컨텐츠 산업과 디지털 만화에 관한 연구  ART001039099   \n",
       "1                          웹 만화 <위대한 캣츠비>의 스토리텔링 구조 분석  ART001061496   \n",
       "2                   DRM 기술을 활용한 디지털 만화 콘텐츠 서비스 시나리오 개발  ART001203561   \n",
       "3                           디지털 만화 콘텐츠 메타데이터 요소개발 및 적용  ART001203563   \n",
       "4                                한국의 만화산업 발전 정책에 관한 연구  ART001221834   \n",
       "..                                                 ...           ...   \n",
       "665                    사설시조를 활용한 <시조웹툰> 스토리텔링 전략 방안 연구  ART003042167   \n",
       "666                    웹툰과 러시아 문예이론 – 러시아 형식주의를 중심으로 -  ART003044492   \n",
       "667  웹툰 기반 OSMU 영상 콘텐츠의 만듦새에 관한 이용자들의 인식 연구: OSMU 태...  ART003044501   \n",
       "668                 만화 작가 화풍을 바탕으로 한 생성 AI의 구독제 서비스 탐구  ART003045213   \n",
       "669  『아메리카노 엑소더스』속 ‘마법소녀’에 관한 고찰 - 변신 모티프의 수용양상과 모바...  ART003050233   \n",
       "\n",
       "                     저자명     주저자 소속기관        학술지 ID        학술지명  \\\n",
       "0                    고은나         부천대학  SER000000642  일러스트레이션 포럼   \n",
       "1                    이상민       가톨릭대학교          1717      대중서사연구   \n",
       "2            오상훈;조현주;강지훈   한국디지털콘텐츠포럼        D00564  정보처리학회논문지D   \n",
       "3    오상훈;조현주;이용배;강지훈;맹성현        명지대학교        D00564  정보처리학회논문지D   \n",
       "4                김병수;윤기헌        조선대학교          1980   만화애니메이션연구   \n",
       "..                   ...          ...           ...         ...   \n",
       "665                  김지은        중앙대학교  SER000001538    다문화콘텐츠연구   \n",
       "666                  홍상우      경상국립대학교          1693    세계문학비교연구   \n",
       "667              홍세민;이상우  연세대학교 정보대학원  SER000005593   비즈니스융복합연구   \n",
       "668  장순규;권민지;여지민;이한나;최은우        계명대학교  SER000006249        미래문화   \n",
       "669                  이황임        한양대학교  SER000006249        미래문화   \n",
       "\n",
       "                                                 저자키워드  \\\n",
       "0                                                  NaN   \n",
       "1              위대한 캣츠비, 웹 만화, 스토리텔링, 웹 미디어의 특징, 서사적 층위   \n",
       "2                             DRM, 만화 콘텐츠, 유통 모델, 시나리오   \n",
       "3    메타데이터요소(Metadata Element), 디지털콘텐츠 유통기술(DRM), 디...   \n",
       "4                                       만화, 만화산업, 만화정책   \n",
       "..                                                 ...   \n",
       "665                         사설시조, 시조웹툰, 스낵컬처, 웹툰, 시조카툰   \n",
       "666                  러시아 형식주의, 웹툰, 낯설게 하기, 시청각 언어, 말풍선   \n",
       "667              웹툰, OSMU 만듦새, 브랜드 확장, OSMU 태도, 웹툰 만족도   \n",
       "668                        생성 AI, 구독제, 서비스 디자인, UX 디자인   \n",
       "669                      마법소녀, 여성영웅, 변신, 모친 살해 모티프, 여장   \n",
       "\n",
       "                                                    초록       발행기관 ID  \\\n",
       "0    디지털 기술의 발전은 사회문화 전반에 큰 파장을 일으키며 디지털 컨텐츠 산업을 빠른...  INS000000241   \n",
       "1    웹 만화 위대한 캣츠비는 웹의 매체를 이용한 서정성 획득, 3중 구조에 따른 서사적...  INS000000103   \n",
       "2    현재 디지털 만화 컨텐츠의 온라인상에서의 유통은 불법유통 및 저작권 보호체계의 미비...  INS000000930   \n",
       "3    디지털콘텐츠 서비스 유형이 다양해지면서 콘텐츠 유통에 참여하는 주체들(저작자, 가공...  INS000000930   \n",
       "4    우리나라 만화계가 장기침체에 빠져있다는 것은 1990년대 후반부터 누적되어 온 일반...  INS000002241   \n",
       "..                                                 ...           ...   \n",
       "665  디지털 시대로의 격변 속에서도 아직도 우리의 고전시가는 어두운 장막속에 가려진 채 ...  INS000005015   \n",
       "666  본고는 국내에서 발표된 웹툰 작품을 러시아 형식주의 이론의 주요 개념으로 분석하려는...  INS000001882   \n",
       "667  웹툰의 지속적인 성장과 함께, 웹툰 기반 OSMU 드라마, 영화 제작이 활성화되는 ...  INS000062611   \n",
       "668  최근, 생성 AI는 인간의 작품과 차이가 없을 높은 완성도의 이미지를 생성하고 있다...  INS000008744   \n",
       "669  본고는 마법소녀물의 형성 과정을 통시적으로 고찰하고, 웹툰 『아메리카노 엑소더스』가...  INS000008744   \n",
       "\n",
       "           발행기관명  발행연도    대분류     중분류       종분류  \\\n",
       "0    한국일러스트레이션학회  2006  예술체육학     디자인       디자인   \n",
       "1         대중서사학회  2007    복합학   학제간연구     학제간연구   \n",
       "2       한국정보처리학회  2003     공학   0미분류0        공학   \n",
       "3       한국정보처리학회  2004     공학   0미분류0        공학   \n",
       "4    한국만화애니메이션학회  2007  예술체육학    예술일반      예술일반   \n",
       "..           ...   ...    ...     ...       ...   \n",
       "665   문화콘텐츠기술연구원  2023   사회과학  사회과학일반  기타사회과학일반   \n",
       "666     세계문학비교학회  2023    인문학      문학        문학   \n",
       "667     한국비즈니스학회  2023    복합학   과학기술학     과학기술학   \n",
       "668    한국미래문화연구소  2023    인문학   기타인문학     기타인문학   \n",
       "669    한국미래문화연구소  2022    인문학   기타인문학     기타인문학   \n",
       "\n",
       "                                                   URL KCI 등재 구분  \\\n",
       "0    https://www.kci.go.kr/kciportal/ci/sereArticle...      등재후보   \n",
       "1    https://www.kci.go.kr/kciportal/ci/sereArticle...      등재후보   \n",
       "2    https://www.kci.go.kr/kciportal/ci/sereArticle...        등재   \n",
       "3    https://www.kci.go.kr/kciportal/ci/sereArticle...        등재   \n",
       "4    https://www.kci.go.kr/kciportal/ci/sereArticle...      등재후보   \n",
       "..                                                 ...       ...   \n",
       "665  https://www.kci.go.kr/kciportal/ci/sereArticle...        등재   \n",
       "666  https://www.kci.go.kr/kciportal/ci/sereArticle...        등재   \n",
       "667  https://www.kci.go.kr/kciportal/ci/sereArticle...        등재   \n",
       "668  https://www.kci.go.kr/kciportal/ci/sereArticle...      등재후보   \n",
       "669  https://www.kci.go.kr/kciportal/ci/sereArticle...       미등재   \n",
       "\n",
       "                      고유 학술지명  \n",
       "0    한국일러스트레이션학회 - 일러스트레이션 포럼  \n",
       "1             대중서사학회 - 대중서사연구  \n",
       "2       한국정보처리학회 - 정보처리학회논문지D  \n",
       "3       한국정보처리학회 - 정보처리학회논문지D  \n",
       "4     한국만화애니메이션학회 - 만화애니메이션연구  \n",
       "..                        ...  \n",
       "665     문화콘텐츠기술연구원 - 다문화콘텐츠연구  \n",
       "666       세계문학비교학회 - 세계문학비교연구  \n",
       "667      한국비즈니스학회 - 비즈니스융복합연구  \n",
       "668          한국미래문화연구소 - 미래문화  \n",
       "669          한국미래문화연구소 - 미래문화  \n",
       "\n",
       "[670 rows x 17 columns]"
      ]
     },
     "execution_count": 23,
     "metadata": {},
     "output_type": "execute_result"
    }
   ],
   "source": [
    "df = pd.read_excel('./Webtoon_kci.xlsx')\n",
    "df"
   ]
  },
  {
   "cell_type": "code",
   "execution_count": 24,
   "metadata": {},
   "outputs": [
    {
     "data": {
      "text/plain": [
       "Index(['논문명', '논문 ID', '저자명', '주저자 소속기관', '학술지 ID', '학술지명', '저자키워드', '초록',\n",
       "       '발행기관 ID', '발행기관명', '발행연도', '대분류', '중분류', '종분류', 'URL', 'KCI 등재 구분',\n",
       "       '고유 학술지명'],\n",
       "      dtype='object')"
      ]
     },
     "execution_count": 24,
     "metadata": {},
     "output_type": "execute_result"
    }
   ],
   "source": [
    "df.columns"
   ]
  },
  {
   "cell_type": "code",
   "execution_count": 25,
   "metadata": {},
   "outputs": [
    {
     "data": {
      "text/plain": [
       "False"
      ]
     },
     "execution_count": 25,
     "metadata": {},
     "output_type": "execute_result"
    }
   ],
   "source": [
    "kiwi.add_user_word('웹툰', 'NNG')\n",
    "kiwi.add_user_word('M&A', 'NNG')\n",
    "kiwi.add_user_word('신과함께', 'NNP')\n",
    "kiwi.add_user_word('신과 함께', 'NNP')"
   ]
  },
  {
   "cell_type": "code",
   "execution_count": 26,
   "metadata": {},
   "outputs": [],
   "source": [
    "def tokenize_part(sent):\n",
    "    tokens = kiwi.tokenize(sent)\n",
    "    return [token.form\n",
    "            for token in tokens\n",
    "            if token.tag in ['NNG', 'NNP', 'SL']]  # NNG, NNP, SL 태그를 가진 토큰만 추출"
   ]
  },
  {
   "cell_type": "code",
   "execution_count": 27,
   "metadata": {},
   "outputs": [
    {
     "data": {
      "text/plain": [
       "['웹툰', 'M&A', '신과함께', '신과 함께']"
      ]
     },
     "execution_count": 27,
     "metadata": {},
     "output_type": "execute_result"
    }
   ],
   "source": [
    "tokenize_part('웹툰과 M&A 그리고 신과함께 혹은 신과 함께')"
   ]
  },
  {
   "cell_type": "code",
   "execution_count": 28,
   "metadata": {},
   "outputs": [
    {
     "name": "stdout",
     "output_type": "stream",
     "text": [
      "영어로만 작성된 초록의 수: 21\n",
      "\n",
      "처음 5개 영어로만 작성된 초록:\n",
      "15     Purpose of this treatise is that typify irony ...\n",
      "86     As Hallyu, or the Korean Wave as it is known a...\n",
      "117    The rapid influx of new digital media technolo...\n",
      "123    According as popularity of Korean webtoon rise...\n",
      "182    This paper explores how non-verbal texts in we...\n",
      "Name: 초록, dtype: object\n"
     ]
    }
   ],
   "source": [
    "# 영어, 숫자, 일반 구두점만 포함하는지 확인하는 함수\n",
    "def is_english_only(text):\n",
    "    if pd.isna(text):  # NaN 값 처리\n",
    "        return False\n",
    "    # 영어 문자, 숫자, 일반적인 구두점만 포함하는지 확인\n",
    "    return bool(re.match(r'^[a-zA-Z0-9\\s\\.,;:!?\"\\'()\\-]+$', str(text)))\n",
    "\n",
    "# '초록' 열에서 영어로만 작성된 행 찾기\n",
    "english_only_rows = df[df['초록'].apply(is_english_only)]\n",
    "\n",
    "# 결과 출력\n",
    "print(f\"영어로만 작성된 초록의 수: {len(english_only_rows)}\")\n",
    "\n",
    "# 처음 5개 행 출력\n",
    "print(\"\\n처음 5개 영어로만 작성된 초록:\")\n",
    "print(english_only_rows['초록'].head())"
   ]
  },
  {
   "cell_type": "code",
   "execution_count": 29,
   "metadata": {},
   "outputs": [],
   "source": [
    "# 한국어 초록 없는 경우 제외\n",
    "df = df[~df['초록'].apply(is_english_only)]"
   ]
  },
  {
   "cell_type": "code",
   "execution_count": 30,
   "metadata": {},
   "outputs": [
    {
     "name": "stderr",
     "output_type": "stream",
     "text": [
      "/tmp/ipykernel_2875606/667290204.py:2: SettingWithCopyWarning: \n",
      "A value is trying to be set on a copy of a slice from a DataFrame.\n",
      "Try using .loc[row_indexer,col_indexer] = value instead\n",
      "\n",
      "See the caveats in the documentation: https://pandas.pydata.org/pandas-docs/stable/user_guide/indexing.html#returning-a-view-versus-a-copy\n",
      "  df['저자키워드'] = df['저자키워드'].str.replace(',','')\n"
     ]
    }
   ],
   "source": [
    "# 키워드 컴마 제거\n",
    "df['저자키워드'] = df['저자키워드'].str.replace(',','')"
   ]
  },
  {
   "cell_type": "code",
   "execution_count": 31,
   "metadata": {},
   "outputs": [
    {
     "data": {
      "text/plain": [
       "0                                                    NaN\n",
       "1                    위대한 캣츠비 웹 만화 스토리텔링 웹 미디어의 특징 서사적 층위\n",
       "2                                  DRM 만화 콘텐츠 유통 모델 시나리오\n",
       "3      메타데이터요소(Metadata Element) 디지털콘텐츠 유통기술(DRM) 디지털...\n",
       "4                                           만화 만화산업 만화정책\n",
       "                             ...                        \n",
       "665                               사설시조 시조웹툰 스낵컬처 웹툰 시조카툰\n",
       "666                        러시아 형식주의 웹툰 낯설게 하기 시청각 언어 말풍선\n",
       "667                    웹툰 OSMU 만듦새 브랜드 확장 OSMU 태도 웹툰 만족도\n",
       "668                             생성 AI 구독제 서비스 디자인 UX 디자인\n",
       "669                            마법소녀 여성영웅 변신 모친 살해 모티프 여장\n",
       "Name: 저자키워드, Length: 649, dtype: object"
      ]
     },
     "execution_count": 31,
     "metadata": {},
     "output_type": "execute_result"
    }
   ],
   "source": [
    "df['저자키워드']"
   ]
  },
  {
   "cell_type": "code",
   "execution_count": 32,
   "metadata": {},
   "outputs": [
    {
     "name": "stdout",
     "output_type": "stream",
     "text": [
      "0    디지털 컨텐츠 산업과 디지털 만화에 관한 연구  디지털 기술의 발전은 사회문화 전반...\n",
      "1    웹 만화 <위대한 캣츠비>의 스토리텔링 구조 분석 위대한 캣츠비 웹 만화 스토리텔링...\n",
      "2    DRM 기술을 활용한 디지털 만화 콘텐츠 서비스 시나리오 개발 DRM 만화 콘텐츠 ...\n",
      "3    디지털 만화 콘텐츠 메타데이터 요소개발 및 적용 메타데이터요소(Metadata El...\n",
      "4    한국의 만화산업 발전 정책에 관한 연구 만화 만화산업 만화정책 우리나라 만화계가 장...\n",
      "Name: combined_text, dtype: object\n"
     ]
    },
    {
     "name": "stderr",
     "output_type": "stream",
     "text": [
      "/tmp/ipykernel_2875606/3773274621.py:7: SettingWithCopyWarning: \n",
      "A value is trying to be set on a copy of a slice from a DataFrame.\n",
      "Try using .loc[row_indexer,col_indexer] = value instead\n",
      "\n",
      "See the caveats in the documentation: https://pandas.pydata.org/pandas-docs/stable/user_guide/indexing.html#returning-a-view-versus-a-copy\n",
      "  df['combined_text'] = (\n"
     ]
    }
   ],
   "source": [
    "# 제목 + 키워드 + 초록\n",
    "# NA 값을 공백으로 대체하는 함수\n",
    "def replace_na_with_blank(x):\n",
    "    return '' if pd.isna(x) else x\n",
    "\n",
    "# 데이터프레임에 이 함수를 적용하고 컬럼들을 합칩니다\n",
    "df['combined_text'] = (\n",
    "    df['논문명'].apply(replace_na_with_blank) + ' ' +\n",
    "    df['저자키워드'].apply(replace_na_with_blank) + ' ' +\n",
    "    df['초록'].apply(replace_na_with_blank)\n",
    ")\n",
    "\n",
    "# 결과 확인\n",
    "print(df['combined_text'].head())"
   ]
  },
  {
   "cell_type": "code",
   "execution_count": 33,
   "metadata": {},
   "outputs": [
    {
     "data": {
      "text/plain": [
       "'웹 만화 <위대한 캣츠비>의 스토리텔링 구조 분석 위대한 캣츠비 웹 만화 스토리텔링 웹 미디어의 특징 서사적 층위 웹 만화 위대한 캣츠비는 웹의 매체를 이용한 서정성 획득, 3중 구조에 따른 서사적 층위, 등장인물들의 내적 성장 이야기의 특성을 통해 스토리텔링을 구현하고 있다. 이러한 스토리텔링은 대중들의 감수성을 자극하여 흥행에 성공할 수 있게 하였고, 웹 만화의 위상을 확립하는 데 결정적인 역할을 했다.위대한 캣츠비의 두루마리 형식의 읽기는 웹 특성을 적극 활용하여 연속성이 강한 이미지를 나열함으로써 끊김없이 읽어내려가는 속도감을 느낄 수 있게 하였다. 그리고 칸을 의도적으로 배제하고 배열함으로써 여백을 통한 감성을 창조해 냈으며, 천연색을 사용하여 영상성을 표출함으로써 서사적이면서도 서정성을 극대화할 수 있는 방법을 터득했다.위대한 캣츠비에 등장하는 세 개의 보조 플롯은 단조로울 수 있었던 멜로 이야기를 좀 더 복잡하게 얽히게 함으로써 사랑에 대한 중심 플롯을 다양하게 변주시키면서 이야기에 풍성함을 더해주었다. 여기에 현실적 층위, 위선적 층위, 몽환적ㆍ환치적 층위의 3중 서사적 층위가 유기적으로 결합하면서 극적 긴장감을 작품의 끝까지 팽팽하게 유지시켜 주는 효과를 나타냈다.또한 등장인물들이 바라봄과 보여짐의 과정을 통해 타인과 관계를 맺는 데 한층 성숙해지는 성장의 과정을 담아내어 사랑에 대한 인간의 내적 욕망을 보여줌으로써 젊은 독자들의 감수성을 울리는 스토리텔링을 성공적으로 확립시켰다.주제어위대한 캣츠비, 웹 만화, 스토리텔링, 웹 미디어의 특징, 서사적 층위'"
      ]
     },
     "execution_count": 33,
     "metadata": {},
     "output_type": "execute_result"
    }
   ],
   "source": [
    "df['combined_text'][1]"
   ]
  },
  {
   "cell_type": "code",
   "execution_count": 34,
   "metadata": {},
   "outputs": [
    {
     "data": {
      "application/vnd.jupyter.widget-view+json": {
       "model_id": "4248dcb1225c4fa5ac4c905b95119116",
       "version_major": 2,
       "version_minor": 0
      },
      "text/plain": [
       "  0%|          | 0/670 [00:00<?, ?it/s]"
      ]
     },
     "metadata": {},
     "output_type": "display_data"
    },
    {
     "data": {
      "text/plain": [
       "0      [디지털, 컨텐츠, 산업, 디지털, 만화, 연구, 디지털, 기술, 발전, 사회, 문...\n",
       "1      [웹, 만화, 캣츠, 스토리텔링, 구조, 분석, 캣츠, 웹, 만화, 스토리텔링, 웹...\n",
       "2      [DRM, 기술, 활용, 디지털, 만화, 콘텐츠, 서비스, 시나리오, 개발, DRM...\n",
       "3      [디지털, 만화, 콘텐츠, 메타, 데이터, 요소, 개발, 적용, 메타, 데이터, 요...\n",
       "4      [한국, 만화, 산업, 발전, 정책, 연구, 만화, 만화, 산업, 만화, 정책, 나...\n",
       "                             ...                        \n",
       "665    [사설시조, 활용, 시조, 웹툰, 스토리텔링, 전략, 방안, 연구, 사설시조, 시조...\n",
       "666    [웹툰, 러시아, 문예, 이론, 러시아, 형식주의, 중심, 러시아, 형식주의, 웹툰...\n",
       "667    [웹툰, 기반, OSMU, 영상, 콘텐츠, 만듦새, 이용, 인식, 연구, OSMU,...\n",
       "668    [만화, 작가, 화풍, 바탕, 생성, AI, 구독, 서비스, 탐구, 생성, AI, ...\n",
       "669    [아메리카노, 엑소더스, 속, 마법소녀, 고찰, 변신, 모티프, 수용, 양상, 모바...\n",
       "Name: combined_text, Length: 670, dtype: object"
      ]
     },
     "execution_count": 34,
     "metadata": {},
     "output_type": "execute_result"
    }
   ],
   "source": [
    "# df['combined_text'].progress_map(lambda x:tokenize_part(x))"
   ]
  },
  {
   "cell_type": "code",
   "execution_count": 74,
   "metadata": {},
   "outputs": [
    {
     "data": {
      "application/vnd.jupyter.widget-view+json": {
       "model_id": "772ba1c8dd434b5d9251e7f5e952be50",
       "version_major": 2,
       "version_minor": 0
      },
      "text/plain": [
       "Overall progress:   0%|          | 0/100 [00:00<?, ?it/s]"
      ]
     },
     "metadata": {},
     "output_type": "display_data"
    },
    {
     "data": {
      "application/vnd.jupyter.widget-view+json": {
       "model_id": "f5b34c2109f74174aa56ee387836a3a5",
       "version_major": 2,
       "version_minor": 0
      },
      "text/plain": [
       "Processing chunks:   0%|          | 0/65 [00:00<?, ?it/s]"
      ]
     },
     "metadata": {},
     "output_type": "display_data"
    },
    {
     "name": "stderr",
     "output_type": "stream",
     "text": [
      "/tmp/ipykernel_2875606/2320503483.py:28: SettingWithCopyWarning: \n",
      "A value is trying to be set on a copy of a slice from a DataFrame.\n",
      "Try using .loc[row_indexer,col_indexer] = value instead\n",
      "\n",
      "See the caveats in the documentation: https://pandas.pydata.org/pandas-docs/stable/user_guide/indexing.html#returning-a-view-versus-a-copy\n",
      "  df['tokens'] = parallel_tokenize(df['combined_text'])\n"
     ]
    }
   ],
   "source": [
    "def process_chunk(texts):\n",
    "    return [tokenize_part(text) for text in texts]\n",
    "\n",
    "def parallel_tokenize(series, num_processes=None):\n",
    "    if num_processes is None:\n",
    "        num_processes = mp.cpu_count()  # 사용 가능한 CPU 코어 수를 사용\n",
    "\n",
    "    # Series를 리스트로 변환\n",
    "    texts = series.tolist()\n",
    "\n",
    "    # 데이터를 균등하게 분할\n",
    "    chunk_size = len(texts) // num_processes\n",
    "    chunks = [texts[i:i + chunk_size] for i in range(0, len(texts), chunk_size)]\n",
    "\n",
    "    # tqdm을 사용하여 진행 상황을 표시하면서 멀티프로세싱 풀 생성 및 작업 실행\n",
    "    with mp.Pool(processes=num_processes) as pool:\n",
    "        results = list(tqdm(\n",
    "            pool.imap(process_chunk, chunks),\n",
    "            total=len(chunks),\n",
    "            desc=\"Processing chunks\"\n",
    "        ))\n",
    "\n",
    "    # 결과 합치기\n",
    "    return [item for sublist in results for item in sublist]\n",
    "# 전체 처리 과정에 대한 tqdm 진행 바 추가\n",
    "with tqdm(total=100, desc=\"Overall progress\", position=0) as pbar:\n",
    "    # 병렬 처리 실행\n",
    "    df['tokens'] = parallel_tokenize(df['combined_text'])\n",
    "    pbar.update(100)"
   ]
  },
  {
   "cell_type": "code",
   "execution_count": null,
   "metadata": {},
   "outputs": [],
   "source": [
    "# # '툰'이 독립적인 토큰으로 포함된 행을 찾는 함수\n",
    "# def contains_toon_token(tokens):\n",
    "#     return '툰' in tokens\n",
    "\n",
    "# # '툰'이 독립적인 토큰으로 포함된 행 필터링\n",
    "# toon_rows = df[df['tokens'].apply(contains_toon_token)]\n",
    "\n",
    "# # 결과 출력\n",
    "# print(f\"'툰'이 독립적인 토큰으로 포함된 행의 수: {len(toon_rows)}\")\n",
    "# print(\"\\n처음 5개 행:\")\n",
    "# print(toon_rows.head())\n",
    "\n",
    "# # '툰' 토큰의 인덱스와 주변 토큰 확인\n",
    "# def get_toon_context(tokens, window=2):\n",
    "#     contexts = []\n",
    "#     for i, token in enumerate(tokens):\n",
    "#         if token == '툰':\n",
    "#             start = max(0, i - window)\n",
    "#             end = min(len(tokens), i + window + 1)\n",
    "#             context = tokens[start:end]\n",
    "#             contexts.append((i, context))\n",
    "#     return contexts\n",
    "\n",
    "# toon_rows['toon_contexts'] = toon_rows['tokens'].apply(get_toon_context)\n",
    "\n",
    "# # 결과 출력\n",
    "# print(\"\\n'툰' 토큰의 컨텍스트 (앞뒤 2개 토큰):\")\n",
    "# for index, row in toon_rows.head().iterrows():\n",
    "#     print(f\"\\n원본 텍스트의 인덱스: {index}\")\n",
    "#     for toon_index, context in row['toon_contexts']:\n",
    "#         print(f\"  '툰' 토큰 인덱스: {toon_index}, 컨텍스트: {context}\")\n",
    "\n",
    "# # '툰' 주변 토큰 빈도 분석\n",
    "# from collections import Counter\n",
    "\n",
    "# before_toon = Counter()\n",
    "# after_toon = Counter()\n",
    "\n",
    "# for contexts in toon_rows['toon_contexts']:\n",
    "#     for _, context in contexts:\n",
    "#         toon_index = context.index('툰')\n",
    "#         if toon_index > 0:\n",
    "#             before_toon[context[toon_index - 1]] += 1\n",
    "#         if toon_index < len(context) - 1:\n",
    "#             after_toon[context[toon_index + 1]] += 1\n",
    "\n",
    "# print(\"\\n'툰' 앞에 가장 자주 나타나는 토큰:\")\n",
    "# print(before_toon.most_common(5))\n",
    "\n",
    "# print(\"\\n'툰' 뒤에 가장 자주 나타나는 토큰:\")\n",
    "# print(after_toon.most_common(5))"
   ]
  },
  {
   "cell_type": "code",
   "execution_count": 75,
   "metadata": {},
   "outputs": [
    {
     "name": "stderr",
     "output_type": "stream",
     "text": [
      "/tmp/ipykernel_2875606/850196577.py:10: SettingWithCopyWarning: \n",
      "A value is trying to be set on a copy of a slice from a DataFrame.\n",
      "Try using .loc[row_indexer,col_indexer] = value instead\n",
      "\n",
      "See the caveats in the documentation: https://pandas.pydata.org/pandas-docs/stable/user_guide/indexing.html#returning-a-view-versus-a-copy\n",
      "  df['tokens'] = df['tokens'].apply(replace_consecutive)\n"
     ]
    }
   ],
   "source": [
    "def replace_consecutive(tokens):\n",
    "    new_tokens = []\n",
    "    for token in tokens:\n",
    "        if len(new_tokens) > 0 and new_tokens[-1] == '신과' and token == '함께':\n",
    "            new_tokens[-1] = '신과함께'\n",
    "        else:\n",
    "            new_tokens.append(token)\n",
    "    return new_tokens\n",
    "\n",
    "df['tokens'] = df['tokens'].apply(replace_consecutive)"
   ]
  },
  {
   "cell_type": "code",
   "execution_count": 76,
   "metadata": {},
   "outputs": [
    {
     "name": "stderr",
     "output_type": "stream",
     "text": [
      "/tmp/ipykernel_2875606/2839061492.py:4: SettingWithCopyWarning: \n",
      "A value is trying to be set on a copy of a slice from a DataFrame.\n",
      "Try using .loc[row_indexer,col_indexer] = value instead\n",
      "\n",
      "See the caveats in the documentation: https://pandas.pydata.org/pandas-docs/stable/user_guide/indexing.html#returning-a-view-versus-a-copy\n",
      "  df['tokens'] = df['tokens'].apply(unify_tokens)\n"
     ]
    }
   ],
   "source": [
    "def unify_tokens(tokens):\n",
    "    return [token.replace('신과 함께', '신과함께') for token in tokens]\n",
    "\n",
    "df['tokens'] = df['tokens'].apply(unify_tokens)"
   ]
  },
  {
   "cell_type": "code",
   "execution_count": 77,
   "metadata": {},
   "outputs": [
    {
     "data": {
      "text/plain": [
       "35"
      ]
     },
     "execution_count": 77,
     "metadata": {},
     "output_type": "execute_result"
    }
   ],
   "source": [
    "df['tokens'].map(lambda x: '신과함께' in x).sum()"
   ]
  },
  {
   "cell_type": "code",
   "execution_count": 78,
   "metadata": {},
   "outputs": [
    {
     "name": "stdout",
     "output_type": "stream",
     "text": [
      "총 Bigram 수: 10\n",
      "트랜스_미디어: 127\n",
      "상호_작용: 103\n",
      "가상_현실: 47\n",
      "청년_세대: 39\n",
      "인공_지능: 34\n",
      "구매_의도: 33\n",
      "비즈니스_모델: 31\n",
      "코_믹스: 30\n",
      "종이_책: 23\n",
      "계룡_선녀: 23\n"
     ]
    },
    {
     "name": "stderr",
     "output_type": "stream",
     "text": [
      "/tmp/ipykernel_2875606/3381342036.py:10: SettingWithCopyWarning: \n",
      "A value is trying to be set on a copy of a slice from a DataFrame.\n",
      "Try using .loc[row_indexer,col_indexer] = value instead\n",
      "\n",
      "See the caveats in the documentation: https://pandas.pydata.org/pandas-docs/stable/user_guide/indexing.html#returning-a-view-versus-a-copy\n",
      "  df['bigrams'] = df['tokens'].apply(apply_bigrams)\n"
     ]
    },
    {
     "data": {
      "image/png": "[encoded data removed]",
      "text/plain": [
       "<Figure size 1200x600 with 1 Axes>"
      ]
     },
     "metadata": {},
     "output_type": "display_data"
    }
   ],
   "source": [
    "# gensim Phrases 모델 생성\n",
    "bigram = Phrases(df['tokens'], min_count=20, threshold=100)  # min_count와 threshold를 조정하여 결과를 조절할 수 있습니다\n",
    "bigram_model = Phraser(bigram)\n",
    "\n",
    "# 바이그램 적용 함수\n",
    "def apply_bigrams(tokens):\n",
    "    return bigram_model[tokens]\n",
    "\n",
    "# 각 행에 바이그램 적용\n",
    "df['bigrams'] = df['tokens'].apply(apply_bigrams)\n",
    "\n",
    "# 모든 바이그램 추출 및 빈도 계산\n",
    "all_bigrams = [token for tokens in df['bigrams'] for token in tokens if '_' in token]\n",
    "bigram_counts = Counter(all_bigrams)\n",
    "\n",
    "# 결과 출력\n",
    "print(f\"총 Bigram 수: {len(bigram_counts)}\")\n",
    "# print(\"\\n상위 20개 Bigram:\")\n",
    "for bigram, count in bigram_counts.most_common():\n",
    "    print(f\"{bigram}: {count}\")\n",
    "\n",
    "# 상위 15개 bigram 시각화\n",
    "top_15 = dict(bigram_counts.most_common(20))\n",
    "\n",
    "plt.figure(figsize=(12, 6))\n",
    "bars = plt.bar(top_15.keys(), top_15.values())\n",
    "plt.title(\"Bigram\", fontproperties=font_prop)\n",
    "plt.xlabel('Bigram', fontproperties=font_prop)\n",
    "plt.ylabel('빈도', fontproperties=font_prop)\n",
    "plt.xticks(rotation=45, ha='right')\n",
    "\n",
    "# 막대 위에 빈도 표시\n",
    "for bar in bars:\n",
    "    height = bar.get_height()\n",
    "    plt.text(bar.get_x() + bar.get_width()/2., height,\n",
    "             f'{height}',\n",
    "             ha='center', va='bottom')\n",
    "\n",
    "plt.tight_layout()\n",
    "plt.show()\n",
    "\n",
    "# # 옵션: 특정 단어를 포함하는 bigram 찾기\n",
    "# def find_bigrams_with_word(word, bigram_counts, top_n=10):\n",
    "#     related_bigrams = {bigram: count for bigram, count in bigram_counts.items() if word in bigram.split('_')}\n",
    "#     return Counter(related_bigrams).most_common(top_n)\n",
    "\n",
    "# # 예시: '웹'을 포함하는 bigram 찾기\n",
    "# word_to_find = '툰'\n",
    "# print(f\"\\n'{word_to_find}'를 포함하는 상위 10개 Bigram:\")\n",
    "# for bigram, count in find_bigrams_with_word(word_to_find, bigram_counts):\n",
    "#     print(f\"{bigram}: {count}\")"
   ]
  },
  {
   "cell_type": "code",
   "execution_count": 53,
   "metadata": {},
   "outputs": [
    {
     "name": "stdout",
     "output_type": "stream",
     "text": [
      "총 Bigram 수: 10\n",
      "트랜스_미디어: 127\n",
      "상호_작용: 103\n",
      "가상_현실: 47\n",
      "청년_세대: 39\n",
      "인공_지능: 34\n",
      "구매_의도: 33\n",
      "비즈니스_모델: 31\n",
      "코_믹스: 30\n",
      "종이_책: 23\n",
      "계룡_선녀: 23\n"
     ]
    },
    {
     "data": {
      "image/png": "[encoded data removed]",
      "text/plain": [
       "<Figure size 1200x600 with 1 Axes>"
      ]
     },
     "metadata": {},
     "output_type": "display_data"
    }
   ],
   "source": [
    "# 모든 바이그램 추출 및 빈도 계산\n",
    "all_bigrams = [token for tokens in df['bigrams'] for token in tokens if '_' in token]\n",
    "bigram_counts = Counter(all_bigrams)\n",
    "\n",
    "# 결과 출력\n",
    "print(f\"총 Bigram 수: {len(bigram_counts)}\")\n",
    "# print(\"\\n상위 20개 Bigram:\")\n",
    "for bigram, count in bigram_counts.most_common():\n",
    "    print(f\"{bigram}: {count}\")\n",
    "\n",
    "# 상위 15개 bigram 시각화\n",
    "top_15 = dict(bigram_counts.most_common(30))\n",
    "\n",
    "plt.figure(figsize=(12, 6))\n",
    "bars = plt.bar(top_15.keys(), top_15.values())\n",
    "plt.title(\"Bigram\", fontproperties=font_prop)\n",
    "plt.xlabel('Bigram', fontproperties=font_prop)\n",
    "plt.ylabel('빈도', fontproperties=font_prop)\n",
    "plt.xticks(rotation=45, ha='right')\n",
    "\n",
    "# 막대 위에 빈도 표시\n",
    "for bar in bars:\n",
    "    height = bar.get_height()\n",
    "    plt.text(bar.get_x() + bar.get_width()/2., height,\n",
    "             f'{height}',\n",
    "             ha='center', va='bottom')\n",
    "\n",
    "plt.tight_layout()\n",
    "plt.show()"
   ]
  },
  {
   "cell_type": "code",
   "execution_count": 81,
   "metadata": {},
   "outputs": [
    {
     "name": "stdout",
     "output_type": "stream",
     "text": [
      "   Word  Frequency\n",
      "0     웹        336\n",
      "1     점        282\n",
      "2     속        170\n",
      "3     a        161\n",
      "4     칸        139\n",
      "5     삶        118\n",
      "6     때        106\n",
      "7     성         97\n",
      "8     글         94\n",
      "9     시         89\n",
      "10    K         81\n",
      "11    후         67\n",
      "12    일         65\n",
      "13    극         62\n",
      "14    전         62\n",
      "15    신         62\n",
      "16    D         60\n",
      "17    장         56\n",
      "18    말         52\n",
      "19    인         51\n",
      "20    안         51\n",
      "21    법         50\n",
      "22    s         49\n",
      "23    물         48\n",
      "24    앞         44\n",
      "25    딸         41\n",
      "26    도         40\n",
      "27    수         40\n",
      "28    툰         39\n",
      "29    지         38\n",
      "30    책         36\n",
      "31    비         36\n",
      "32    원         35\n",
      "33    사         34\n",
      "34    문         34\n",
      "35    면         33\n",
      "36    A         33\n",
      "37    컷         32\n",
      "38    예         32\n",
      "39    주         31\n",
      "40    위         30\n",
      "41    팬         30\n",
      "42    힘         27\n",
      "43    용         27\n",
      "44    정         27\n",
      "45    상         26\n",
      "46    화         26\n",
      "47    양         25\n",
      "48    질         25\n",
      "49    체         25\n"
     ]
    },
    {
     "data": {
      "image/png": "[encoded data removed]",
      "text/plain": [
       "<Figure size 1200x600 with 1 Axes>"
      ]
     },
     "metadata": {},
     "output_type": "display_data"
    }
   ],
   "source": [
    "# 1음절 단어 추출 및 빈도 계산 함수\n",
    "def get_single_syllable_words(tokens_series):\n",
    "    all_tokens = [token for tokens in tokens_series for token in tokens]\n",
    "    single_syllable_words = [word for word in all_tokens if len(word) == 1]\n",
    "    word_counts = Counter(single_syllable_words)\n",
    "    top_20 = word_counts.most_common(50)\n",
    "    return top_20\n",
    "\n",
    "# 실행\n",
    "top_20_single_syllable = get_single_syllable_words(df['bigrams'])\n",
    "\n",
    "# 결과를 데이터프레임으로 변환\n",
    "result_df = pd.DataFrame(top_20_single_syllable, columns=['Word', 'Frequency'])\n",
    "\n",
    "# 결과 출력\n",
    "print(result_df)\n",
    "\n",
    "# 막대 그래프로 시각화\n",
    "plt.figure(figsize=(12, 6))\n",
    "bars = plt.bar(result_df['Word'], result_df['Frequency'])\n",
    "plt.title('상위 20개 1음절 단어', fontproperties=font_prop)\n",
    "plt.xlabel('단어', fontproperties=font_prop)\n",
    "plt.ylabel('빈도', fontproperties=font_prop)\n",
    "plt.xticks(rotation=45, ha='right')\n",
    "\n",
    "# 막대 위에 빈도 표시\n",
    "for bar in bars:\n",
    "    height = bar.get_height()\n",
    "    plt.text(bar.get_x() + bar.get_width()/2., height,\n",
    "             f'{height}',\n",
    "             ha='center', va='bottom')\n",
    "\n",
    "plt.tight_layout()\n",
    "plt.show()\n",
    "\n",
    "# 웹, 툰, 삶, 책, 말, 법, 힘, 팬, 컷, 딸, 극, 속, 글, 칸, 신"
   ]
  },
  {
   "cell_type": "code",
   "execution_count": 82,
   "metadata": {},
   "outputs": [
    {
     "name": "stdout",
     "output_type": "stream",
     "text": [
      "필터링 전 토큰 수의 평균: 158.1633281972265\n",
      "필터링 후 토큰 수의 평균: 152.4191063174114\n",
      "\n",
      "제거된 토큰 예시 (처음 5개 행):\n",
      "행 0: []\n",
      "행 1: ['내', '끝', '위', '중']\n",
      "행 2: []\n",
      "행 3: ['자']\n",
      "행 4: []\n",
      "\n",
      "가장 많이 제거된 상위 20개 토큰:\n",
      "점: 179\n",
      "때: 84\n",
      "후: 51\n",
      "안: 45\n",
      "a: 42\n",
      "성: 38\n",
      "앞: 38\n",
      "시: 36\n",
      "전: 34\n",
      "장: 32\n",
      "도: 32\n",
      "일: 31\n",
      "수: 31\n",
      "주: 29\n",
      "물: 28\n",
      "위: 27\n",
      "인: 27\n",
      "s: 25\n",
      "질: 25\n",
      "원: 24\n",
      "\n",
      "제거된 1음절 단어 목록 (keep_words 제외):\n",
      "A, B, C, D, E, G, I, J, L, M, N, O, P, R, S, T, V, W, Z, a, b, c, d, e, f, g, h, i, k, l, m, n, p, s, t, u, w, x, y, , ×, 가, 각, 간, 감, 갑, 값, 갓, 강, 개, 객, 겉, 격, 결, 겹, 경, 계, 고, 곡, 곤, 곰, 곱, 곳, 공, 과, 관, 교, 구, 국, 군, 권, 궤, 귀, 규, 근, 금, 급, 긍, 기, 길, 김, 꼴, 꿈, 끝, 나, 난, 날, 남, 낮, 낱, 내, 녀, 노, 논, 눈, 뉴, 능, 단, 달, 닭, 담, 답, 당, 대, 댁, 더, 덕, 덤, 덧, 도, 독, 돈, 동, 뒤, 드, 득, 듦, 등, 디, 딥, 딸, 땅, 때, 뜻, 라, 래, 랙, 량, 런, 레, 력, 령, 례, 롤, 롱, 료, 룩, 르, 리, 린, 림, 링, 마, 막, 만, 맛, 망, 매, 맥, 맨, 맬, 멋, 멜, 명, 모, 목, 몫, 몸, 묘, 무, 문, 물, 미, 믹, 민, 밀, 밈, 바, 박, 밖, 반, 발, 밤, 방, 배, 백, 뱀, 뱅, 버, 벌, 벽, 별, 병, 보, 본, 볼, 봉, 부, 북, 불, 붐, 뷰, 브, 비, 빅, 빔, 빵, 뿔, 사, 산, 살, 상, 새, 색, 생, 샤, 샷, 서, 석, 선, 설, 섬, 성, 세, 셀, 셋, 셔, 션, 소, 손, 쇼, 숏, 수, 순, 술, 숨, 숲, 승, 시, 식, 실, 심, 쌍, 아, 악, 안, 앎, 암, 앞, 애, 앱, 약, 양, 어, 얼, 업, 여, 역, 연, 열, 영, 예, 오, 완, 왕, 외, 욕, 우, 운, 원, 월, 웰, 위, 윌, 유, 육, 윤, 융, 으, 은, 을, 음, 의, 이, 인, 일, 입, 자, 작, 장, 재, 쟁, 적, 전, 점, 정, 조, 존, 종, 좌, 죄, 주, 준, 중, 증, 지, 직, 진, 질, 짐, 집, 짓, 징, 짝, 차, 참, 창, 처, 천, 철, 체, 초, 최, 축, 츠, 층, 카, 캘, 컨, 코, 콕, 콘, 쿨, 키, 타, 탈, 탑, 태, 택, 탭, 터, 털, 테, 텐, 텔, 토, 톤, 통, 툴, 튠, 틀, 틈, 티, 팀, 팅, 파, 판, 팔, 팝, 패, 펜, 편, 평, 포, 폭, 폰, 폴, 폼, 표, 풀, 품, 플, 피, 핀, 하, 학, 한, 함, 항, 해, 핵, 향, 현, 형, 혼, 홀, 홍, 화, 환, 황, 회, 효, 후, 훈\n"
     ]
    },
    {
     "name": "stderr",
     "output_type": "stream",
     "text": [
      "/tmp/ipykernel_2875606/4045956001.py:12: SettingWithCopyWarning: \n",
      "A value is trying to be set on a copy of a slice from a DataFrame.\n",
      "Try using .loc[row_indexer,col_indexer] = value instead\n",
      "\n",
      "See the caveats in the documentation: https://pandas.pydata.org/pandas-docs/stable/user_guide/indexing.html#returning-a-view-versus-a-copy\n",
      "  df['filtered_tokens'] = df['bigrams'].apply(filter_tokens)\n"
     ]
    }
   ],
   "source": [
    "# 보존할 1음절 단어 리스트\n",
    "keep_words = ['웹', '툰', '삶', '책', '말', '법', '힘', '팬', '컷', '극', '속', '글', '칸', '신', 'K','면','용']\n",
    "\n",
    "# 토큰 필터링 함수\n",
    "def filter_tokens(tokens):\n",
    "    if isinstance(tokens, pd.Series):\n",
    "        tokens = tokens.tolist()\n",
    "    \n",
    "    return [token for token in tokens if len(token) > 1 or token in keep_words]\n",
    "\n",
    "# 'bigrams' 컬럼에 필터링 적용 (실제로는 토큰 리스트임)\n",
    "df['filtered_tokens'] = df['bigrams'].apply(filter_tokens)\n",
    "\n",
    "# 결과 확인\n",
    "print(\"필터링 전 토큰 수의 평균:\", df['bigrams'].apply(lambda x: len(x) if isinstance(x, list) else len(x.tolist())).mean())\n",
    "print(\"필터링 후 토큰 수의 평균:\", df['filtered_tokens'].apply(len).mean())\n",
    "\n",
    "# 제거된 토큰 예시 (처음 5개 행)\n",
    "print(\"\\n제거된 토큰 예시 (처음 5개 행):\")\n",
    "for i in range(5):\n",
    "    original = df['bigrams'].iloc[i]\n",
    "    if isinstance(original, pd.Series):\n",
    "        original = original.tolist()\n",
    "    removed = set(original) - set(df['filtered_tokens'].iloc[i])\n",
    "    print(f\"행 {i}: {list(removed)}\")\n",
    "\n",
    "# 전체 데이터에서 제거된 토큰 집계\n",
    "from collections import Counter\n",
    "\n",
    "all_removed_tokens = []\n",
    "for original, filtered in zip(df['bigrams'], df['filtered_tokens']):\n",
    "    if isinstance(original, pd.Series):\n",
    "        original = original.tolist()\n",
    "    removed = set(original) - set(filtered)\n",
    "    all_removed_tokens.extend(removed)\n",
    "\n",
    "removed_tokens_count = Counter(all_removed_tokens)\n",
    "\n",
    "print(\"\\n가장 많이 제거된 상위 20개 토큰:\")\n",
    "for token, count in removed_tokens_count.most_common(20):\n",
    "    print(f\"{token}: {count}\")\n",
    "\n",
    "# 제거된 1음절 단어 목록 (keep_words 제외)\n",
    "removed_single_syllables = set(token for token in removed_tokens_count.keys() if len(token) == 1 and token not in keep_words)\n",
    "\n",
    "print(\"\\n제거된 1음절 단어 목록 (keep_words 제외):\")\n",
    "print(', '.join(sorted(removed_single_syllables)))"
   ]
  },
  {
   "cell_type": "code",
   "execution_count": 83,
   "metadata": {},
   "outputs": [
    {
     "name": "stderr",
     "output_type": "stream",
     "text": [
      "/tmp/ipykernel_2875606/3255280322.py:10: SettingWithCopyWarning: \n",
      "A value is trying to be set on a copy of a slice from a DataFrame.\n",
      "Try using .loc[row_indexer,col_indexer] = value instead\n",
      "\n",
      "See the caveats in the documentation: https://pandas.pydata.org/pandas-docs/stable/user_guide/indexing.html#returning-a-view-versus-a-copy\n",
      "  df['filtered_tokens_uppercase'] = df['filtered_tokens'].apply(filter_english_words)\n"
     ]
    },
    {
     "name": "stdout",
     "output_type": "stream",
     "text": [
      "처리 전 첫 5개 행:\n",
      "0    [디지털, 컨텐츠, 산업, 디지털, 만화, 연구, 디지털, 기술, 발전, 사회, 문...\n",
      "1    [웹, 만화, 캣츠, 스토리텔링, 구조, 분석, 캣츠, 웹, 만화, 스토리텔링, 웹...\n",
      "2    [DRM, 기술, 활용, 디지털, 만화, 콘텐츠, 서비스, 시나리오, 개발, DRM...\n",
      "3    [디지털, 만화, 콘텐츠, 메타, 데이터, 요소, 개발, 적용, 메타, 데이터, 요...\n",
      "4    [한국, 만화, 산업, 발전, 정책, 연구, 만화, 만화, 산업, 만화, 정책, 나...\n",
      "Name: filtered_tokens, dtype: object\n",
      "\n",
      "처리 후 첫 5개 행:\n",
      "0    [디지털, 컨텐츠, 산업, 디지털, 만화, 연구, 디지털, 기술, 발전, 사회, 문...\n",
      "1    [웹, 만화, 캣츠, 스토리텔링, 구조, 분석, 캣츠, 웹, 만화, 스토리텔링, 웹...\n",
      "2    [DRM, 기술, 활용, 디지털, 만화, 콘텐츠, 서비스, 시나리오, 개발, DRM...\n",
      "3    [디지털, 만화, 콘텐츠, 메타, 데이터, 요소, 개발, 적용, 메타, 데이터, 요...\n",
      "4    [한국, 만화, 산업, 발전, 정책, 연구, 만화, 만화, 산업, 만화, 정책, 나...\n",
      "Name: filtered_tokens_uppercase, dtype: object\n",
      "\n",
      "제거된 토큰 수: 9748\n",
      "제거 비율: 9.85%\n",
      "\n",
      "제거된 영어 소문자/혼합 단어 (상위 20개):\n",
      "of, Webtoon, webtoon, the, to, and, in, The, on, is, this, that, by, for, as, This, are, study, with, be, In, an, has, through, Korean, were, from, into, it, was\n"
     ]
    }
   ],
   "source": [
    "def filter_english_words(tokens):\n",
    "    def keep_word(word):\n",
    "        if re.match(r'^[a-zA-Z\\&]+$', word):  # 영어 단어인 경우\n",
    "            return word.isupper()  # 대문자로만 구성된 경우만 True 반환\n",
    "        return True  # 영어가 아닌 경우 모두 유지\n",
    "\n",
    "    return [token for token in tokens if keep_word(token)]\n",
    "\n",
    "# df['filtered_tokens']의 각 행에 대해 필터링 적용\n",
    "df['filtered_tokens_uppercase'] = df['filtered_tokens'].apply(filter_english_words)\n",
    "\n",
    "# 결과 확인\n",
    "print(\"처리 전 첫 5개 행:\")\n",
    "print(df['filtered_tokens'].head())\n",
    "print(\"\\n처리 후 첫 5개 행:\")\n",
    "print(df['filtered_tokens_uppercase'].head())\n",
    "\n",
    "# 변경된 토큰 수 확인\n",
    "token_count_before = df['filtered_tokens'].apply(len).sum()\n",
    "token_count_after = df['filtered_tokens_uppercase'].apply(len).sum()\n",
    "removed_tokens = token_count_before - token_count_after\n",
    "\n",
    "print(f\"\\n제거된 토큰 수: {removed_tokens}\")\n",
    "print(f\"제거 비율: {(removed_tokens/token_count_before)*100:.2f}%\")\n",
    "\n",
    "# 옵션: 제거된 영어 소문자/혼합 단어 목록 (상위 20개)\n",
    "removed_words = []\n",
    "for before, after in zip(df['filtered_tokens'], df['filtered_tokens_uppercase']):\n",
    "    removed_words.extend(set(before) - set(after))\n",
    "\n",
    "english_removed = [word for word in removed_words if re.match(r'^[a-zA-Z]+$', word) and not word.isupper()]\n",
    "print(\"\\n제거된 영어 소문자/혼합 단어 (상위 20개):\")\n",
    "print(\", \".join(sorted(set(english_removed), key=english_removed.count, reverse=True)[:30]))"
   ]
  },
  {
   "cell_type": "code",
   "execution_count": 84,
   "metadata": {},
   "outputs": [
    {
     "name": "stdout",
     "output_type": "stream",
     "text": [
      "상위 50개 영어 토큰과 그 빈도수:\n",
      "IP: 118\n",
      "OSMU: 102\n",
      "K: 81\n",
      "SNS: 73\n",
      "VR: 69\n",
      "TV: 56\n",
      "PPL: 45\n",
      "AI: 43\n",
      "PC: 27\n",
      "OTT: 24\n",
      "IT: 18\n",
      "UX: 16\n",
      "OST: 15\n",
      "M&A: 15\n",
      "AR: 14\n",
      "UI: 11\n",
      "IPA: 11\n",
      "DRM: 10\n",
      "DB: 8\n",
      "ISBN: 8\n",
      "SF: 7\n",
      "PL: 7\n",
      "EFL: 6\n",
      "WEBTOON: 6\n",
      "GL: 6\n",
      "HTML: 5\n",
      "SPSS: 5\n",
      "IMTBPT: 5\n",
      "AHP: 5\n",
      "BTS: 5\n",
      "STEAM: 5\n",
      "PAT: 4\n",
      "IMF: 4\n",
      "ICT: 4\n",
      "BL: 4\n",
      "OCN: 4\n",
      "BU: 4\n",
      "POP: 4\n",
      "MPEG: 3\n",
      "CG: 3\n",
      "CT: 3\n",
      "PLS: 3\n",
      "BGM: 3\n",
      "DTPB: 3\n",
      "MBC: 3\n",
      "PPS: 3\n",
      "NAVER: 3\n",
      "PD: 3\n",
      "MMT: 3\n",
      "PSM: 3\n",
      "\n",
      "전체 영어 토큰 수: 992\n",
      "고유 영어 토큰 수: 132\n"
     ]
    }
   ],
   "source": [
    "# 영어 단어만 추출하는 함수\n",
    "def is_english(word):\n",
    "    return bool(re.match(r'^[a-zA-Z\\&]+$', word))\n",
    "\n",
    "# 모든 토큰을 하나의 리스트로 합치기\n",
    "all_tokens = [token for tokens in df['filtered_tokens_uppercase'] for token in tokens]\n",
    "\n",
    "# 영어 토큰만 필터링하고 빈도수 계산\n",
    "english_token_counts = Counter(token for token in all_tokens if is_english(token))\n",
    "\n",
    "# 상위 50개 영어 토큰 출력\n",
    "print(\"상위 50개 영어 토큰과 그 빈도수:\")\n",
    "for token, count in english_token_counts.most_common(50):\n",
    "    print(f\"{token}: {count}\")\n",
    "\n",
    "# 전체 영어 토큰 수와 고유 영어 토큰 수 출력\n",
    "total_english_tokens = sum(english_token_counts.values())\n",
    "unique_english_tokens = len(english_token_counts)\n",
    "print(f\"\\n전체 영어 토큰 수: {total_english_tokens}\")\n",
    "print(f\"고유 영어 토큰 수: {unique_english_tokens}\")"
   ]
  },
  {
   "cell_type": "code",
   "execution_count": 85,
   "metadata": {},
   "outputs": [
    {
     "name": "stdout",
     "output_type": "stream",
     "text": [
      "상위 50개 토큰과 그 빈도수:\n",
      "웹툰: 4165\n",
      "연구: 1508\n",
      "만화: 1297\n",
      "콘텐츠: 1289\n",
      "서사: 896\n",
      "분석: 885\n",
      "문화: 696\n",
      "활용: 602\n",
      "중심: 525\n",
      "작품: 492\n",
      "산업: 461\n",
      "디지털: 449\n",
      "한국: 438\n",
      "매체: 409\n",
      "다양: 404\n",
      "스토리텔링: 404\n",
      "영화: 381\n",
      "플랫폼: 380\n",
      "사회: 377\n",
      "독자: 365\n",
      "미디어: 359\n",
      "결과: 358\n",
      "작가: 357\n",
      "과정: 350\n",
      "웹: 336\n",
      "특성: 331\n",
      "캐릭터: 330\n",
      "교육: 329\n",
      "방식: 328\n",
      "변화: 327\n",
      "요소: 325\n",
      "장르: 324\n",
      "가능: 319\n",
      "효과: 312\n",
      "시장: 312\n",
      "기술: 304\n",
      "제작: 302\n",
      "드라마: 301\n",
      "영향: 287\n",
      "구조: 274\n",
      "이야기: 274\n",
      "기반: 267\n",
      "전략: 265\n",
      "의미: 255\n",
      "브랜드: 248\n",
      "제시: 245\n",
      "고전: 245\n",
      "확장: 241\n",
      "표현: 240\n",
      "구성: 238\n",
      "\n",
      "전체 토큰 수: 89172\n",
      "고유 토큰 수: 6170\n",
      "평균 출현 빈도: 14.45\n",
      "'만화'의 빈도수: 1297\n",
      "'웹툰'의 빈도수: 4165\n"
     ]
    },
    {
     "data": {
      "image/png": "[encoded data removed]",
      "text/plain": [
       "<Figure size 1200x600 with 1 Axes>"
      ]
     },
     "metadata": {},
     "output_type": "display_data"
    }
   ],
   "source": [
    "# 모든 토큰을 하나의 리스트로 합치기\n",
    "all_tokens = [token for tokens in df['filtered_tokens_uppercase'] for token in tokens]\n",
    "\n",
    "# 토큰 빈도수 계산\n",
    "token_counts = Counter(all_tokens)\n",
    "\n",
    "# 상위 50개 토큰 출력\n",
    "print(\"상위 50개 토큰과 그 빈도수:\")\n",
    "for token, count in token_counts.most_common(50):\n",
    "    print(f\"{token}: {count}\")\n",
    "\n",
    "# 전체 토큰 수와 고유 토큰 수 출력\n",
    "total_tokens = sum(token_counts.values())\n",
    "unique_tokens = len(token_counts)\n",
    "print(f\"\\n전체 토큰 수: {total_tokens}\")\n",
    "print(f\"고유 토큰 수: {unique_tokens}\")\n",
    "\n",
    "# 평균 출현 빈도\n",
    "average_frequency = total_tokens / unique_tokens\n",
    "print(f\"평균 출현 빈도: {average_frequency:.2f}\")\n",
    "\n",
    "# 옵션: 특정 단어의 빈도수 확인 함수\n",
    "def check_word_frequency(word):\n",
    "    frequency = token_counts.get(word, 0)\n",
    "    print(f\"'{word}'의 빈도수: {frequency}\")\n",
    "\n",
    "# 사용 예:\n",
    "check_word_frequency(\"만화\")\n",
    "check_word_frequency(\"웹툰\")\n",
    "\n",
    "plt.figure(figsize=(12, 6))\n",
    "plt.hist([count for count in token_counts.values() if count < 100], bins=50)\n",
    "plt.title(\"토큰 빈도수 분포 (빈도수 100 미만)\")\n",
    "plt.xlabel(\"빈도수\")\n",
    "plt.ylabel(\"토큰 수\")\n",
    "plt.show()"
   ]
  },
  {
   "cell_type": "code",
   "execution_count": 86,
   "metadata": {},
   "outputs": [],
   "source": [
    "df.to_pickle('./240727_WebToon_tokens.pkl')"
   ]
  }
 ],
 "metadata": {
  "kernelspec": {
   "display_name": "python311",
   "language": "python",
   "name": "python3"
  },
  "language_info": {
   "codemirror_mode": {
    "name": "ipython",
    "version": 3
   },
   "file_extension": ".py",
   "mimetype": "text/x-python",
   "name": "python",
   "nbconvert_exporter": "python",
   "pygments_lexer": "ipython3",
   "version": "3.11.9"
  }
 },
 "nbformat": 4,
 "nbformat_minor": 2
}
