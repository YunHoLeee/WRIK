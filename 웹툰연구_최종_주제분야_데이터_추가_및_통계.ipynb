{
  "nbformat": 4,
  "nbformat_minor": 0,
  "metadata": {
    "colab": {
      "provenance": [],
      "authorship_tag": "ABX9TyMGAvkct7dVkZXkNVGoAp93",
      "include_colab_link": true
    },
    "kernelspec": {
      "name": "python3",
      "display_name": "Python 3"
    },
    "language_info": {
      "name": "python"
    },
    "widgets": {
      "application/vnd.jupyter.widget-state+json": {
        "c29fb6766d3d4704a1d244169ca8279b": {
          "model_module": "@jupyter-widgets/controls",
          "model_name": "HBoxModel",
          "model_module_version": "1.5.0",
          "state": {
            "_dom_classes": [],
            "_model_module": "@jupyter-widgets/controls",
            "_model_module_version": "1.5.0",
            "_model_name": "HBoxModel",
            "_view_count": null,
            "_view_module": "@jupyter-widgets/controls",
            "_view_module_version": "1.5.0",
            "_view_name": "HBoxView",
            "box_style": "",
            "children": [
              "IPY_MODEL_7fc523a42b8c470497bee086a14d7640",
              "IPY_MODEL_aca0b0e402374305a23cde2f68716db9",
              "IPY_MODEL_4d45a4151d3647fbbc67d60d26ca78ee"
            ],
            "layout": "IPY_MODEL_9633484544ed4c32b7491e546c487d4b"
          }
        },
        "7fc523a42b8c470497bee086a14d7640": {
          "model_module": "@jupyter-widgets/controls",
          "model_name": "HTMLModel",
          "model_module_version": "1.5.0",
          "state": {
            "_dom_classes": [],
            "_model_module": "@jupyter-widgets/controls",
            "_model_module_version": "1.5.0",
            "_model_name": "HTMLModel",
            "_view_count": null,
            "_view_module": "@jupyter-widgets/controls",
            "_view_module_version": "1.5.0",
            "_view_name": "HTMLView",
            "description": "",
            "description_tooltip": null,
            "layout": "IPY_MODEL_06aaf2e4642d4cdbb1eca18592785f04",
            "placeholder": "​",
            "style": "IPY_MODEL_5b50d620a36542739ab6d99e67b32b2a",
            "value": "100%"
          }
        },
        "aca0b0e402374305a23cde2f68716db9": {
          "model_module": "@jupyter-widgets/controls",
          "model_name": "FloatProgressModel",
          "model_module_version": "1.5.0",
          "state": {
            "_dom_classes": [],
            "_model_module": "@jupyter-widgets/controls",
            "_model_module_version": "1.5.0",
            "_model_name": "FloatProgressModel",
            "_view_count": null,
            "_view_module": "@jupyter-widgets/controls",
            "_view_module_version": "1.5.0",
            "_view_name": "ProgressView",
            "bar_style": "success",
            "description": "",
            "description_tooltip": null,
            "layout": "IPY_MODEL_3ecc696f12ce4056801814890d15ce02",
            "max": 670,
            "min": 0,
            "orientation": "horizontal",
            "style": "IPY_MODEL_8621ba2b20dc49ecb7ef98b9a689c6af",
            "value": 670
          }
        },
        "4d45a4151d3647fbbc67d60d26ca78ee": {
          "model_module": "@jupyter-widgets/controls",
          "model_name": "HTMLModel",
          "model_module_version": "1.5.0",
          "state": {
            "_dom_classes": [],
            "_model_module": "@jupyter-widgets/controls",
            "_model_module_version": "1.5.0",
            "_model_name": "HTMLModel",
            "_view_count": null,
            "_view_module": "@jupyter-widgets/controls",
            "_view_module_version": "1.5.0",
            "_view_name": "HTMLView",
            "description": "",
            "description_tooltip": null,
            "layout": "IPY_MODEL_6f7312a7646f422e85d1468201bf9ab4",
            "placeholder": "​",
            "style": "IPY_MODEL_c8b25200e4a841bcb6026940f466bd57",
            "value": " 670/670 [08:13&lt;00:00,  1.41it/s]"
          }
        },
        "9633484544ed4c32b7491e546c487d4b": {
          "model_module": "@jupyter-widgets/base",
          "model_name": "LayoutModel",
          "model_module_version": "1.2.0",
          "state": {
            "_model_module": "@jupyter-widgets/base",
            "_model_module_version": "1.2.0",
            "_model_name": "LayoutModel",
            "_view_count": null,
            "_view_module": "@jupyter-widgets/base",
            "_view_module_version": "1.2.0",
            "_view_name": "LayoutView",
            "align_content": null,
            "align_items": null,
            "align_self": null,
            "border": null,
            "bottom": null,
            "display": null,
            "flex": null,
            "flex_flow": null,
            "grid_area": null,
            "grid_auto_columns": null,
            "grid_auto_flow": null,
            "grid_auto_rows": null,
            "grid_column": null,
            "grid_gap": null,
            "grid_row": null,
            "grid_template_areas": null,
            "grid_template_columns": null,
            "grid_template_rows": null,
            "height": null,
            "justify_content": null,
            "justify_items": null,
            "left": null,
            "margin": null,
            "max_height": null,
            "max_width": null,
            "min_height": null,
            "min_width": null,
            "object_fit": null,
            "object_position": null,
            "order": null,
            "overflow": null,
            "overflow_x": null,
            "overflow_y": null,
            "padding": null,
            "right": null,
            "top": null,
            "visibility": null,
            "width": null
          }
        },
        "06aaf2e4642d4cdbb1eca18592785f04": {
          "model_module": "@jupyter-widgets/base",
          "model_name": "LayoutModel",
          "model_module_version": "1.2.0",
          "state": {
            "_model_module": "@jupyter-widgets/base",
            "_model_module_version": "1.2.0",
            "_model_name": "LayoutModel",
            "_view_count": null,
            "_view_module": "@jupyter-widgets/base",
            "_view_module_version": "1.2.0",
            "_view_name": "LayoutView",
            "align_content": null,
            "align_items": null,
            "align_self": null,
            "border": null,
            "bottom": null,
            "display": null,
            "flex": null,
            "flex_flow": null,
            "grid_area": null,
            "grid_auto_columns": null,
            "grid_auto_flow": null,
            "grid_auto_rows": null,
            "grid_column": null,
            "grid_gap": null,
            "grid_row": null,
            "grid_template_areas": null,
            "grid_template_columns": null,
            "grid_template_rows": null,
            "height": null,
            "justify_content": null,
            "justify_items": null,
            "left": null,
            "margin": null,
            "max_height": null,
            "max_width": null,
            "min_height": null,
            "min_width": null,
            "object_fit": null,
            "object_position": null,
            "order": null,
            "overflow": null,
            "overflow_x": null,
            "overflow_y": null,
            "padding": null,
            "right": null,
            "top": null,
            "visibility": null,
            "width": null
          }
        },
        "5b50d620a36542739ab6d99e67b32b2a": {
          "model_module": "@jupyter-widgets/controls",
          "model_name": "DescriptionStyleModel",
          "model_module_version": "1.5.0",
          "state": {
            "_model_module": "@jupyter-widgets/controls",
            "_model_module_version": "1.5.0",
            "_model_name": "DescriptionStyleModel",
            "_view_count": null,
            "_view_module": "@jupyter-widgets/base",
            "_view_module_version": "1.2.0",
            "_view_name": "StyleView",
            "description_width": ""
          }
        },
        "3ecc696f12ce4056801814890d15ce02": {
          "model_module": "@jupyter-widgets/base",
          "model_name": "LayoutModel",
          "model_module_version": "1.2.0",
          "state": {
            "_model_module": "@jupyter-widgets/base",
            "_model_module_version": "1.2.0",
            "_model_name": "LayoutModel",
            "_view_count": null,
            "_view_module": "@jupyter-widgets/base",
            "_view_module_version": "1.2.0",
            "_view_name": "LayoutView",
            "align_content": null,
            "align_items": null,
            "align_self": null,
            "border": null,
            "bottom": null,
            "display": null,
            "flex": null,
            "flex_flow": null,
            "grid_area": null,
            "grid_auto_columns": null,
            "grid_auto_flow": null,
            "grid_auto_rows": null,
            "grid_column": null,
            "grid_gap": null,
            "grid_row": null,
            "grid_template_areas": null,
            "grid_template_columns": null,
            "grid_template_rows": null,
            "height": null,
            "justify_content": null,
            "justify_items": null,
            "left": null,
            "margin": null,
            "max_height": null,
            "max_width": null,
            "min_height": null,
            "min_width": null,
            "object_fit": null,
            "object_position": null,
            "order": null,
            "overflow": null,
            "overflow_x": null,
            "overflow_y": null,
            "padding": null,
            "right": null,
            "top": null,
            "visibility": null,
            "width": null
          }
        },
        "8621ba2b20dc49ecb7ef98b9a689c6af": {
          "model_module": "@jupyter-widgets/controls",
          "model_name": "ProgressStyleModel",
          "model_module_version": "1.5.0",
          "state": {
            "_model_module": "@jupyter-widgets/controls",
            "_model_module_version": "1.5.0",
            "_model_name": "ProgressStyleModel",
            "_view_count": null,
            "_view_module": "@jupyter-widgets/base",
            "_view_module_version": "1.2.0",
            "_view_name": "StyleView",
            "bar_color": null,
            "description_width": ""
          }
        },
        "6f7312a7646f422e85d1468201bf9ab4": {
          "model_module": "@jupyter-widgets/base",
          "model_name": "LayoutModel",
          "model_module_version": "1.2.0",
          "state": {
            "_model_module": "@jupyter-widgets/base",
            "_model_module_version": "1.2.0",
            "_model_name": "LayoutModel",
            "_view_count": null,
            "_view_module": "@jupyter-widgets/base",
            "_view_module_version": "1.2.0",
            "_view_name": "LayoutView",
            "align_content": null,
            "align_items": null,
            "align_self": null,
            "border": null,
            "bottom": null,
            "display": null,
            "flex": null,
            "flex_flow": null,
            "grid_area": null,
            "grid_auto_columns": null,
            "grid_auto_flow": null,
            "grid_auto_rows": null,
            "grid_column": null,
            "grid_gap": null,
            "grid_row": null,
            "grid_template_areas": null,
            "grid_template_columns": null,
            "grid_template_rows": null,
            "height": null,
            "justify_content": null,
            "justify_items": null,
            "left": null,
            "margin": null,
            "max_height": null,
            "max_width": null,
            "min_height": null,
            "min_width": null,
            "object_fit": null,
            "object_position": null,
            "order": null,
            "overflow": null,
            "overflow_x": null,
            "overflow_y": null,
            "padding": null,
            "right": null,
            "top": null,
            "visibility": null,
            "width": null
          }
        },
        "c8b25200e4a841bcb6026940f466bd57": {
          "model_module": "@jupyter-widgets/controls",
          "model_name": "DescriptionStyleModel",
          "model_module_version": "1.5.0",
          "state": {
            "_model_module": "@jupyter-widgets/controls",
            "_model_module_version": "1.5.0",
            "_model_name": "DescriptionStyleModel",
            "_view_count": null,
            "_view_module": "@jupyter-widgets/base",
            "_view_module_version": "1.2.0",
            "_view_name": "StyleView",
            "description_width": ""
          }
        }
      }
    }
  },
  "cells": [
    {
      "cell_type": "markdown",
      "metadata": {
        "id": "view-in-github",
        "colab_type": "text"
      },
      "source": [
        "<a href=\"https://colab.research.google.com/github/YunHoLeee/MRIK/blob/main/%EC%9B%B9%ED%88%B0%EC%97%B0%EA%B5%AC_%EC%B5%9C%EC%A2%85_%EC%A3%BC%EC%A0%9C%EB%B6%84%EC%95%BC_%EB%8D%B0%EC%9D%B4%ED%84%B0_%EC%B6%94%EA%B0%80_%EB%B0%8F_%ED%86%B5%EA%B3%84.ipynb\" target=\"_parent\"><img src=\"https://colab.research.google.com/assets/colab-badge.svg\" alt=\"Open In Colab\"/></a>"
      ]
    },
    {
      "cell_type": "markdown",
      "source": [
        "### 라이브러리 다운로드"
      ],
      "metadata": {
        "id": "mM0UcgrJIdR8"
      }
    },
    {
      "cell_type": "code",
      "execution_count": null,
      "metadata": {
        "id": "zP5VkbAL4W9F"
      },
      "outputs": [],
      "source": [
        "import requests  # HTTP 요청을 보내기 위한 라이브러리\n",
        "import pickle  # 객체를 파일로 저장하고 불러오기 위한 라이브러리\n",
        "import time  # 시간 관련 함수 제공 (예: 지연, 현재 시간)\n",
        "import sys  # 파이썬 인터프리터와 관련된 작업을 수행하기 위한 라이브러리\n",
        "\n",
        "# sys.setrecursionlimit(10000000)  # 재귀 호출의 한도를 설정 (주석 처리됨)\n",
        "# from mpire import WorkerPool  # 병렬 처리 라이브러리 (주석 처리됨)\n",
        "\n",
        "import pandas as pd  # 데이터 조작 및 분석을 위한 라이브러리\n",
        "from tqdm.notebook import tqdm  # 루프의 진행 상황을 시각적으로 보여주는 라이브러리\n",
        "from random import uniform  # 임의의 실수를 생성하는 함수\n",
        "import lxml  # XML 및 HTML 문서를 처리하기 위한 라이브러리\n",
        "import lxml.etree as et  # XML 및 HTML 문서를 생성하고 수정하기 위한 라이브러리\n",
        "from bs4 import BeautifulSoup  # HTML 및 XML 문서를 구문 분석하기 위한 라이브러리\n",
        "import glob  # 파일 경로 패턴을 처리하기 위한 라이브러리\n",
        "import urllib3  # HTTP 클라이언트를 위한 라이브러리\n",
        "urllib3.disable_warnings()  # urllib3에서 발생하는 경고를 비활성화\n",
        "from natsort import natsorted  # 자연스러운 정렬을 위한 라이브러리\n",
        "import re  # 정규 표현식 작업을 위한 라이브러리\n",
        "import gdown  # Google Drive에서 파일을 다운로드하기 위한 라이브러리\n",
        "from concurrent.futures import ThreadPoolExecutor  # 멀티스레딩을 위한 라이브러리\n",
        "!pip install openpyxl"
      ]
    },
    {
      "cell_type": "markdown",
      "source": [
        "### 파일 업로드"
      ],
      "metadata": {
        "id": "e9D-Rel5IqcT"
      }
    },
    {
      "cell_type": "code",
      "source": [
        "# 엑셀 파일 로드\n",
        "from google.colab import files\n",
        "uploaded = files.upload()"
      ],
      "metadata": {
        "colab": {
          "base_uri": "https://localhost:8080/",
          "height": 93
        },
        "id": "grO2yoa84k1S",
        "outputId": "0546cd24-6dcf-4560-e72e-616d5071db19"
      },
      "execution_count": null,
      "outputs": [
        {
          "output_type": "display_data",
          "data": {
            "text/plain": [
              "<IPython.core.display.HTML object>"
            ],
            "text/html": [
              "\n",
              "     <input type=\"file\" id=\"files-d93e0870-d527-40be-a1a5-efeae11bd13c\" name=\"files[]\" multiple disabled\n",
              "        style=\"border:none\" />\n",
              "     <output id=\"result-d93e0870-d527-40be-a1a5-efeae11bd13c\">\n",
              "      Upload widget is only available when the cell has been executed in the\n",
              "      current browser session. Please rerun this cell to enable.\n",
              "      </output>\n",
              "      <script>// Copyright 2017 Google LLC\n",
              "//\n",
              "// Licensed under the Apache License, Version 2.0 (the \"License\");\n",
              "// you may not use this file except in compliance with the License.\n",
              "// You may obtain a copy of the License at\n",
              "//\n",
              "//      http://www.apache.org/licenses/LICENSE-2.0\n",
              "//\n",
              "// Unless required by applicable law or agreed to in writing, software\n",
              "// distributed under the License is distributed on an \"AS IS\" BASIS,\n",
              "// WITHOUT WARRANTIES OR CONDITIONS OF ANY KIND, either express or implied.\n",
              "// See the License for the specific language governing permissions and\n",
              "// limitations under the License.\n",
              "\n",
              "/**\n",
              " * @fileoverview Helpers for google.colab Python module.\n",
              " */\n",
              "(function(scope) {\n",
              "function span(text, styleAttributes = {}) {\n",
              "  const element = document.createElement('span');\n",
              "  element.textContent = text;\n",
              "  for (const key of Object.keys(styleAttributes)) {\n",
              "    element.style[key] = styleAttributes[key];\n",
              "  }\n",
              "  return element;\n",
              "}\n",
              "\n",
              "// Max number of bytes which will be uploaded at a time.\n",
              "const MAX_PAYLOAD_SIZE = 100 * 1024;\n",
              "\n",
              "function _uploadFiles(inputId, outputId) {\n",
              "  const steps = uploadFilesStep(inputId, outputId);\n",
              "  const outputElement = document.getElementById(outputId);\n",
              "  // Cache steps on the outputElement to make it available for the next call\n",
              "  // to uploadFilesContinue from Python.\n",
              "  outputElement.steps = steps;\n",
              "\n",
              "  return _uploadFilesContinue(outputId);\n",
              "}\n",
              "\n",
              "// This is roughly an async generator (not supported in the browser yet),\n",
              "// where there are multiple asynchronous steps and the Python side is going\n",
              "// to poll for completion of each step.\n",
              "// This uses a Promise to block the python side on completion of each step,\n",
              "// then passes the result of the previous step as the input to the next step.\n",
              "function _uploadFilesContinue(outputId) {\n",
              "  const outputElement = document.getElementById(outputId);\n",
              "  const steps = outputElement.steps;\n",
              "\n",
              "  const next = steps.next(outputElement.lastPromiseValue);\n",
              "  return Promise.resolve(next.value.promise).then((value) => {\n",
              "    // Cache the last promise value to make it available to the next\n",
              "    // step of the generator.\n",
              "    outputElement.lastPromiseValue = value;\n",
              "    return next.value.response;\n",
              "  });\n",
              "}\n",
              "\n",
              "/**\n",
              " * Generator function which is called between each async step of the upload\n",
              " * process.\n",
              " * @param {string} inputId Element ID of the input file picker element.\n",
              " * @param {string} outputId Element ID of the output display.\n",
              " * @return {!Iterable<!Object>} Iterable of next steps.\n",
              " */\n",
              "function* uploadFilesStep(inputId, outputId) {\n",
              "  const inputElement = document.getElementById(inputId);\n",
              "  inputElement.disabled = false;\n",
              "\n",
              "  const outputElement = document.getElementById(outputId);\n",
              "  outputElement.innerHTML = '';\n",
              "\n",
              "  const pickedPromise = new Promise((resolve) => {\n",
              "    inputElement.addEventListener('change', (e) => {\n",
              "      resolve(e.target.files);\n",
              "    });\n",
              "  });\n",
              "\n",
              "  const cancel = document.createElement('button');\n",
              "  inputElement.parentElement.appendChild(cancel);\n",
              "  cancel.textContent = 'Cancel upload';\n",
              "  const cancelPromise = new Promise((resolve) => {\n",
              "    cancel.onclick = () => {\n",
              "      resolve(null);\n",
              "    };\n",
              "  });\n",
              "\n",
              "  // Wait for the user to pick the files.\n",
              "  const files = yield {\n",
              "    promise: Promise.race([pickedPromise, cancelPromise]),\n",
              "    response: {\n",
              "      action: 'starting',\n",
              "    }\n",
              "  };\n",
              "\n",
              "  cancel.remove();\n",
              "\n",
              "  // Disable the input element since further picks are not allowed.\n",
              "  inputElement.disabled = true;\n",
              "\n",
              "  if (!files) {\n",
              "    return {\n",
              "      response: {\n",
              "        action: 'complete',\n",
              "      }\n",
              "    };\n",
              "  }\n",
              "\n",
              "  for (const file of files) {\n",
              "    const li = document.createElement('li');\n",
              "    li.append(span(file.name, {fontWeight: 'bold'}));\n",
              "    li.append(span(\n",
              "        `(${file.type || 'n/a'}) - ${file.size} bytes, ` +\n",
              "        `last modified: ${\n",
              "            file.lastModifiedDate ? file.lastModifiedDate.toLocaleDateString() :\n",
              "                                    'n/a'} - `));\n",
              "    const percent = span('0% done');\n",
              "    li.appendChild(percent);\n",
              "\n",
              "    outputElement.appendChild(li);\n",
              "\n",
              "    const fileDataPromise = new Promise((resolve) => {\n",
              "      const reader = new FileReader();\n",
              "      reader.onload = (e) => {\n",
              "        resolve(e.target.result);\n",
              "      };\n",
              "      reader.readAsArrayBuffer(file);\n",
              "    });\n",
              "    // Wait for the data to be ready.\n",
              "    let fileData = yield {\n",
              "      promise: fileDataPromise,\n",
              "      response: {\n",
              "        action: 'continue',\n",
              "      }\n",
              "    };\n",
              "\n",
              "    // Use a chunked sending to avoid message size limits. See b/62115660.\n",
              "    let position = 0;\n",
              "    do {\n",
              "      const length = Math.min(fileData.byteLength - position, MAX_PAYLOAD_SIZE);\n",
              "      const chunk = new Uint8Array(fileData, position, length);\n",
              "      position += length;\n",
              "\n",
              "      const base64 = btoa(String.fromCharCode.apply(null, chunk));\n",
              "      yield {\n",
              "        response: {\n",
              "          action: 'append',\n",
              "          file: file.name,\n",
              "          data: base64,\n",
              "        },\n",
              "      };\n",
              "\n",
              "      let percentDone = fileData.byteLength === 0 ?\n",
              "          100 :\n",
              "          Math.round((position / fileData.byteLength) * 100);\n",
              "      percent.textContent = `${percentDone}% done`;\n",
              "\n",
              "    } while (position < fileData.byteLength);\n",
              "  }\n",
              "\n",
              "  // All done.\n",
              "  yield {\n",
              "    response: {\n",
              "      action: 'complete',\n",
              "    }\n",
              "  };\n",
              "}\n",
              "\n",
              "scope.google = scope.google || {};\n",
              "scope.google.colab = scope.google.colab || {};\n",
              "scope.google.colab._files = {\n",
              "  _uploadFiles,\n",
              "  _uploadFilesContinue,\n",
              "};\n",
              "})(self);\n",
              "</script> "
            ]
          },
          "metadata": {}
        },
        {
          "output_type": "stream",
          "name": "stdout",
          "text": [
            "Saving 웹툰연구사 정리 데이터 최종(~2023) DEMO.xlsx to 웹툰연구사 정리 데이터 최종(~2023) DEMO.xlsx\n"
          ]
        }
      ]
    },
    {
      "cell_type": "markdown",
      "source": [
        "### 주제분야 분류(대분류, 중분류) 추가"
      ],
      "metadata": {
        "id": "dRu3T9DHI0t3"
      }
    },
    {
      "cell_type": "code",
      "source": [
        "urllib3.disable_warnings()\n",
        "\n",
        "# 엑셀 파일에서 URL을 읽어오기\n",
        "df = pd.read_excel('/content/웹툰연구사 정리 데이터 최종(~2023) DEMO.xlsx')  # 엑셀 파일명 적용\n",
        "urls = df['URL']  # URL이 들어있는 열 가져오기\n",
        "\n",
        "# 결과를 저장할 리스트 초기화\n",
        "results = []\n",
        "\n",
        "# 각 URL에 대해 스크래핑 수행\n",
        "for url in tqdm(urls):\n",
        "    try:\n",
        "        response = requests.get(url, verify=False)\n",
        "        response.raise_for_status()  # 요청이 성공했는지 확인\n",
        "        soup = BeautifulSoup(response.text, 'html.parser')\n",
        "\n",
        "        # 연구분야 정보를 담고 있는 'subject' 클래스의 div 태그 찾기\n",
        "        subject_div = soup.find('div', class_='subject')\n",
        "\n",
        "        # 대분류와 중분류 추출\n",
        "        if subject_div:\n",
        "            overboxes = subject_div.find_all('div', class_='overbox ib')\n",
        "            major_category = overboxes[0].find('a').text.strip() if len(overboxes) > 0 else '정보 없음'\n",
        "            minor_category = overboxes[1].find('a').text.strip() if len(overboxes) > 1 else '0미분류0'\n",
        "        else:\n",
        "            major_category = '정보 없음'\n",
        "            minor_category = '0미분류0'\n",
        "\n",
        "        results.append({'URL': url, '대분류': major_category, '중분류': minor_category})\n",
        "\n",
        "    except requests.RequestException as e:\n",
        "        print(f\"Error fetching {url}: {e}\")\n",
        "        results.append({'URL': url, '대분류': '오류 발생', '중분류': '오류 발생'})\n",
        "\n",
        "# 결과를 데이터프레임으로 변환\n",
        "results_df = pd.DataFrame(results)\n",
        "\n",
        "# 기존 데이터프레임에 대분류와 중분류 정보 추가\n",
        "df['대분류'] = results_df['대분류']\n",
        "df['중분류'] = results_df['중분류']\n",
        "\n",
        "# 결과를 엑셀 파일로 저장\n",
        "output_file_path = '/content/updated_웹툰연구사 정리 데이터 최종(~2023) 대분류중분류 추출.xlsx'\n"
      ],
      "metadata": {
        "colab": {
          "base_uri": "https://localhost:8080/",
          "height": 49,
          "referenced_widgets": [
            "c29fb6766d3d4704a1d244169ca8279b",
            "7fc523a42b8c470497bee086a14d7640",
            "aca0b0e402374305a23cde2f68716db9",
            "4d45a4151d3647fbbc67d60d26ca78ee",
            "9633484544ed4c32b7491e546c487d4b",
            "06aaf2e4642d4cdbb1eca18592785f04",
            "5b50d620a36542739ab6d99e67b32b2a",
            "3ecc696f12ce4056801814890d15ce02",
            "8621ba2b20dc49ecb7ef98b9a689c6af",
            "6f7312a7646f422e85d1468201bf9ab4",
            "c8b25200e4a841bcb6026940f466bd57"
          ]
        },
        "id": "dqcXTq-q4lj2",
        "outputId": "652d1052-2ccd-4d1d-fc97-88e9dcdf64e3"
      },
      "execution_count": null,
      "outputs": [
        {
          "output_type": "display_data",
          "data": {
            "text/plain": [
              "  0%|          | 0/670 [00:00<?, ?it/s]"
            ],
            "application/vnd.jupyter.widget-view+json": {
              "version_major": 2,
              "version_minor": 0,
              "model_id": "c29fb6766d3d4704a1d244169ca8279b"
            }
          },
          "metadata": {}
        }
      ]
    },
    {
      "cell_type": "code",
      "source": [
        "df.to_excel(output_file_path, index=False)\n",
        "\n",
        "# 결과를 출력\n",
        "df.head()\n",
        "\n",
        "# 결과 파일 다운로드\n",
        "from google.colab import files\n",
        "files.download(output_file_path)"
      ],
      "metadata": {
        "colab": {
          "base_uri": "https://localhost:8080/",
          "height": 17
        },
        "id": "k99aoR1nGKhQ",
        "outputId": "8d92564f-d87c-4689-c1ab-a2712da73173"
      },
      "execution_count": null,
      "outputs": [
        {
          "output_type": "display_data",
          "data": {
            "text/plain": [
              "<IPython.core.display.Javascript object>"
            ],
            "application/javascript": [
              "\n",
              "    async function download(id, filename, size) {\n",
              "      if (!google.colab.kernel.accessAllowed) {\n",
              "        return;\n",
              "      }\n",
              "      const div = document.createElement('div');\n",
              "      const label = document.createElement('label');\n",
              "      label.textContent = `Downloading \"${filename}\": `;\n",
              "      div.appendChild(label);\n",
              "      const progress = document.createElement('progress');\n",
              "      progress.max = size;\n",
              "      div.appendChild(progress);\n",
              "      document.body.appendChild(div);\n",
              "\n",
              "      const buffers = [];\n",
              "      let downloaded = 0;\n",
              "\n",
              "      const channel = await google.colab.kernel.comms.open(id);\n",
              "      // Send a message to notify the kernel that we're ready.\n",
              "      channel.send({})\n",
              "\n",
              "      for await (const message of channel.messages) {\n",
              "        // Send a message to notify the kernel that we're ready.\n",
              "        channel.send({})\n",
              "        if (message.buffers) {\n",
              "          for (const buffer of message.buffers) {\n",
              "            buffers.push(buffer);\n",
              "            downloaded += buffer.byteLength;\n",
              "            progress.value = downloaded;\n",
              "          }\n",
              "        }\n",
              "      }\n",
              "      const blob = new Blob(buffers, {type: 'application/binary'});\n",
              "      const a = document.createElement('a');\n",
              "      a.href = window.URL.createObjectURL(blob);\n",
              "      a.download = filename;\n",
              "      div.appendChild(a);\n",
              "      a.click();\n",
              "      div.remove();\n",
              "    }\n",
              "  "
            ]
          },
          "metadata": {}
        },
        {
          "output_type": "display_data",
          "data": {
            "text/plain": [
              "<IPython.core.display.Javascript object>"
            ],
            "application/javascript": [
              "download(\"download_0c6e71e5-1ebd-4462-9ff1-2bd4806cef80\", \"updated_\\uc6f9\\ud230\\uc5f0\\uad6c\\uc0ac \\uc815\\ub9ac \\ub370\\uc774\\ud130 \\ucd5c\\uc885(~2023) \\ub300\\ubd84\\ub958\\uc911\\ubd84\\ub958 \\ucd94\\uac00.xlsx\", 667623)"
            ]
          },
          "metadata": {}
        }
      ]
    },
    {
      "cell_type": "markdown",
      "source": [
        "### 주제분야 분류 통계 추가"
      ],
      "metadata": {
        "id": "vA0yOBm3I5Zc"
      }
    },
    {
      "cell_type": "code",
      "source": [
        "# 엑셀 파일 로드\n",
        "file_path = '/content/updated_웹툰연구사 정리 데이터 최종(~2023) 대분류중분류 추가.xlsx'\n",
        "df = pd.read_excel(file_path)\n",
        "\n",
        "# 대분류 통계\n",
        "summary_major = df['대분류'].value_counts().reset_index()\n",
        "summary_major.columns = ['대분류', '논문 수']\n",
        "\n",
        "# 중분류 통계\n",
        "summary_minor = df.groupby(['대분류', '중분류']).size().reset_index(name='논문 수')\n",
        "\n",
        "# 엑셀 파일 저장\n",
        "output_file_path = '/content/summary_웹툰연구사 정리 데이터 최종(~2023)_주제분야통계.xlsx'\n",
        "\n",
        "with pd.ExcelWriter(output_file_path, engine='openpyxl') as writer:\n",
        "    df.to_excel(writer, sheet_name='Sheet1', index=False)\n",
        "    summary_major.to_excel(writer, sheet_name='Sheet2', index=False)\n",
        "    summary_minor.to_excel(writer, sheet_name='Sheet3', index=False)\n",
        "\n",
        "# 생성된 파일 다운로드\n",
        "from google.colab import files\n",
        "files.download(output_file_path)"
      ],
      "metadata": {
        "colab": {
          "base_uri": "https://localhost:8080/",
          "height": 17
        },
        "id": "ko90ACbqGedS",
        "outputId": "ddea8787-7766-4886-ea78-1059457dbe84"
      },
      "execution_count": null,
      "outputs": [
        {
          "output_type": "display_data",
          "data": {
            "text/plain": [
              "<IPython.core.display.Javascript object>"
            ],
            "application/javascript": [
              "\n",
              "    async function download(id, filename, size) {\n",
              "      if (!google.colab.kernel.accessAllowed) {\n",
              "        return;\n",
              "      }\n",
              "      const div = document.createElement('div');\n",
              "      const label = document.createElement('label');\n",
              "      label.textContent = `Downloading \"${filename}\": `;\n",
              "      div.appendChild(label);\n",
              "      const progress = document.createElement('progress');\n",
              "      progress.max = size;\n",
              "      div.appendChild(progress);\n",
              "      document.body.appendChild(div);\n",
              "\n",
              "      const buffers = [];\n",
              "      let downloaded = 0;\n",
              "\n",
              "      const channel = await google.colab.kernel.comms.open(id);\n",
              "      // Send a message to notify the kernel that we're ready.\n",
              "      channel.send({})\n",
              "\n",
              "      for await (const message of channel.messages) {\n",
              "        // Send a message to notify the kernel that we're ready.\n",
              "        channel.send({})\n",
              "        if (message.buffers) {\n",
              "          for (const buffer of message.buffers) {\n",
              "            buffers.push(buffer);\n",
              "            downloaded += buffer.byteLength;\n",
              "            progress.value = downloaded;\n",
              "          }\n",
              "        }\n",
              "      }\n",
              "      const blob = new Blob(buffers, {type: 'application/binary'});\n",
              "      const a = document.createElement('a');\n",
              "      a.href = window.URL.createObjectURL(blob);\n",
              "      a.download = filename;\n",
              "      div.appendChild(a);\n",
              "      a.click();\n",
              "      div.remove();\n",
              "    }\n",
              "  "
            ]
          },
          "metadata": {}
        },
        {
          "output_type": "display_data",
          "data": {
            "text/plain": [
              "<IPython.core.display.Javascript object>"
            ],
            "application/javascript": [
              "download(\"download_dad9742d-7838-4f1c-beb8-df61bf93a6aa\", \"summary_\\uc6f9\\ud230\\uc5f0\\uad6c\\uc0ac \\uc815\\ub9ac \\ub370\\uc774\\ud130 \\ucd5c\\uc885(~2023)_\\uc8fc\\uc81c\\ubd84\\uc57c\\ud1b5\\uacc4.xlsx\", 670085)"
            ]
          },
          "metadata": {}
        }
      ]
    },
    {
      "cell_type": "code",
      "source": [
        "# 엑셀 파일 로드\n",
        "file_path = '/content/updated_웹툰연구사 정리 데이터 최종(~2023) 대분류중분류 추가.xlsx'\n",
        "df = pd.read_excel(file_path)\n",
        "\n",
        "# 발행기관명 통계\n",
        "summary_institution = df['발행기관명'].value_counts().reset_index()\n",
        "summary_institution.columns = ['발행기관명', '논문 수']\n",
        "\n",
        "# 학술지명 통계 (발행기관명 포함)\n",
        "summary_journal = df.groupby(['발행기관명', '학술지명']).size().reset_index(name='논문 수')\n",
        "\n",
        "# 엑셀 파일 저장\n",
        "output_file_path = '/content/summary_웹툰연구사 정리 데이터 최종(~2023)_기관 및 학술지.xlsx'\n",
        "\n",
        "with pd.ExcelWriter(output_file_path, engine='openpyxl') as writer:\n",
        "    df.to_excel(writer, sheet_name='Sheet1', index=False)\n",
        "    summary_institution.to_excel(writer, sheet_name='Sheet2', index=False)\n",
        "    summary_journal.to_excel(writer, sheet_name='Sheet3', index=False)\n",
        "\n",
        "# 생성된 파일 다운로드\n",
        "from google.colab import files\n",
        "files.download(output_file_path)"
      ],
      "metadata": {
        "colab": {
          "base_uri": "https://localhost:8080/",
          "height": 17
        },
        "id": "XSXNjLUvRq80",
        "outputId": "59fb7f19-b1fc-469a-dd92-520e05b99f55"
      },
      "execution_count": null,
      "outputs": [
        {
          "output_type": "display_data",
          "data": {
            "text/plain": [
              "<IPython.core.display.Javascript object>"
            ],
            "application/javascript": [
              "\n",
              "    async function download(id, filename, size) {\n",
              "      if (!google.colab.kernel.accessAllowed) {\n",
              "        return;\n",
              "      }\n",
              "      const div = document.createElement('div');\n",
              "      const label = document.createElement('label');\n",
              "      label.textContent = `Downloading \"${filename}\": `;\n",
              "      div.appendChild(label);\n",
              "      const progress = document.createElement('progress');\n",
              "      progress.max = size;\n",
              "      div.appendChild(progress);\n",
              "      document.body.appendChild(div);\n",
              "\n",
              "      const buffers = [];\n",
              "      let downloaded = 0;\n",
              "\n",
              "      const channel = await google.colab.kernel.comms.open(id);\n",
              "      // Send a message to notify the kernel that we're ready.\n",
              "      channel.send({})\n",
              "\n",
              "      for await (const message of channel.messages) {\n",
              "        // Send a message to notify the kernel that we're ready.\n",
              "        channel.send({})\n",
              "        if (message.buffers) {\n",
              "          for (const buffer of message.buffers) {\n",
              "            buffers.push(buffer);\n",
              "            downloaded += buffer.byteLength;\n",
              "            progress.value = downloaded;\n",
              "          }\n",
              "        }\n",
              "      }\n",
              "      const blob = new Blob(buffers, {type: 'application/binary'});\n",
              "      const a = document.createElement('a');\n",
              "      a.href = window.URL.createObjectURL(blob);\n",
              "      a.download = filename;\n",
              "      div.appendChild(a);\n",
              "      a.click();\n",
              "      div.remove();\n",
              "    }\n",
              "  "
            ]
          },
          "metadata": {}
        },
        {
          "output_type": "display_data",
          "data": {
            "text/plain": [
              "<IPython.core.display.Javascript object>"
            ],
            "application/javascript": [
              "download(\"download_d6162ccd-9f06-4d20-b590-3c35212b3813\", \"summary_\\uc6f9\\ud230\\uc5f0\\uad6c\\uc0ac \\uc815\\ub9ac \\ub370\\uc774\\ud130 \\ucd5c\\uc885(~2023)_\\uae30\\uad00 \\ubc0f \\ud559\\uc220\\uc9c0.xlsx\", 680990)"
            ]
          },
          "metadata": {}
        }
      ]
    },
    {
      "cell_type": "markdown",
      "source": [
        "### 발행연도별 통계"
      ],
      "metadata": {
        "id": "WRNUC9_zUTq6"
      }
    },
    {
      "cell_type": "code",
      "source": [
        "import pandas as pd\n",
        "\n",
        "# 엑셀 파일 로드\n",
        "file_path = '/content/updated_웹툰연구사 정리 데이터 최종(~2023) 대분류중분류 추가.xlsx'\n",
        "df = pd.read_excel(file_path)\n",
        "\n",
        "# 발행연도 통계\n",
        "summary_year = df['발행연도'].value_counts().reset_index()\n",
        "summary_year.columns = ['발행연도', '논문 수']\n",
        "summary_year = summary_year.sort_values(by='발행연도')\n",
        "\n",
        "# 엑셀 파일 저장\n",
        "output_file_path = '/content/summary_웹툰연구사 정리 데이터 최종(~2023)_연도별 통계.xlsx'\n",
        "\n",
        "with pd.ExcelWriter(output_file_path, engine='openpyxl') as writer:\n",
        "    df.to_excel(writer, sheet_name='Sheet1', index=False)\n",
        "    summary_year.to_excel(writer, sheet_name='Sheet2', index=False)\n",
        "\n",
        "# 생성된 파일 다운로드\n",
        "from google.colab import files\n",
        "files.download(output_file_path)\n"
      ],
      "metadata": {
        "colab": {
          "base_uri": "https://localhost:8080/",
          "height": 17
        },
        "id": "ikdga7FhUTKx",
        "outputId": "1d9a65fb-30f5-4cd5-a2fb-7e0e962105c3"
      },
      "execution_count": null,
      "outputs": [
        {
          "output_type": "display_data",
          "data": {
            "text/plain": [
              "<IPython.core.display.Javascript object>"
            ],
            "application/javascript": [
              "\n",
              "    async function download(id, filename, size) {\n",
              "      if (!google.colab.kernel.accessAllowed) {\n",
              "        return;\n",
              "      }\n",
              "      const div = document.createElement('div');\n",
              "      const label = document.createElement('label');\n",
              "      label.textContent = `Downloading \"${filename}\": `;\n",
              "      div.appendChild(label);\n",
              "      const progress = document.createElement('progress');\n",
              "      progress.max = size;\n",
              "      div.appendChild(progress);\n",
              "      document.body.appendChild(div);\n",
              "\n",
              "      const buffers = [];\n",
              "      let downloaded = 0;\n",
              "\n",
              "      const channel = await google.colab.kernel.comms.open(id);\n",
              "      // Send a message to notify the kernel that we're ready.\n",
              "      channel.send({})\n",
              "\n",
              "      for await (const message of channel.messages) {\n",
              "        // Send a message to notify the kernel that we're ready.\n",
              "        channel.send({})\n",
              "        if (message.buffers) {\n",
              "          for (const buffer of message.buffers) {\n",
              "            buffers.push(buffer);\n",
              "            downloaded += buffer.byteLength;\n",
              "            progress.value = downloaded;\n",
              "          }\n",
              "        }\n",
              "      }\n",
              "      const blob = new Blob(buffers, {type: 'application/binary'});\n",
              "      const a = document.createElement('a');\n",
              "      a.href = window.URL.createObjectURL(blob);\n",
              "      a.download = filename;\n",
              "      div.appendChild(a);\n",
              "      a.click();\n",
              "      div.remove();\n",
              "    }\n",
              "  "
            ]
          },
          "metadata": {}
        },
        {
          "output_type": "display_data",
          "data": {
            "text/plain": [
              "<IPython.core.display.Javascript object>"
            ],
            "application/javascript": [
              "download(\"download_8d5d38af-9d92-47d6-a07b-7ff73eec4d09\", \"summary_\\uc6f9\\ud230\\uc5f0\\uad6c\\uc0ac \\uc815\\ub9ac \\ub370\\uc774\\ud130 \\ucd5c\\uc885(~2023)_\\uc5f0\\ub3c4\\ubcc4 \\ud1b5\\uacc4.xlsx\", 668402)"
            ]
          },
          "metadata": {}
        }
      ]
    },
    {
      "cell_type": "markdown",
      "source": [
        "### 학술지별 논문 수 통계\n",
        "\n",
        "서로 다른 발행기관에서 발행한 동명의 학술지가 있어 통계에 오차가 발생하므로, 발행기관과 학술지를 모두 활용하여 통계 도출"
      ],
      "metadata": {
        "id": "uqiP1fsRWQ1h"
      }
    },
    {
      "cell_type": "code",
      "source": [
        "import pandas as pd\n",
        "\n",
        "# 엑셀 파일 로드\n",
        "file_path = '/content/summary_웹툰연구사 정리 데이터 최종(~2023)_기관 및 학술지.xlsx'\n",
        "df = pd.read_excel(file_path)\n",
        "\n",
        "# 엑셀 파일의 시트 이름 확인\n",
        "xls = pd.ExcelFile(file_path)\n",
        "print(xls.sheet_names)  # 시트 이름을 출력하여 확인\n",
        "\n",
        "# 발행기관명과 학술지명을 결합하여 고유한 학술지명 생성\n",
        "df['고유 학술지명'] = df['발행기관명'] + ' - ' + df['학술지명']\n",
        "\n",
        "# 고유 학술지명별 논문 수 집계\n",
        "journal_counts = df['고유 학술지명'].value_counts().reset_index()\n",
        "journal_counts.columns = ['고유 학술지명', '논문 수']\n",
        "\n",
        "# 논문 수 구간 설정 및 구간별 빈도 계산\n",
        "summary_counts = {\n",
        "    '논문 수 구간': ['1개', '2개', '3개', '4개', '5개', '6개', '7개 이상'],\n",
        "    '학술지 수': [\n",
        "        (journal_counts['논문 수'] == 1).sum(),\n",
        "        (journal_counts['논문 수'] == 2).sum(),\n",
        "        (journal_counts['논문 수'] == 3).sum(),\n",
        "        (journal_counts['논문 수'] == 4).sum(),\n",
        "        (journal_counts['논문 수'] == 5).sum(),\n",
        "        (journal_counts['논문 수'] == 6).sum(),\n",
        "        (journal_counts['논문 수'] >= 7).sum()\n",
        "    ]\n",
        "}\n",
        "\n",
        "summary_counts_df = pd.DataFrame(summary_counts)\n",
        "\n",
        "# 결과를 엑셀 파일로 저장\n",
        "output_file_path = '논문수_구간별_학술지수.xlsx'\n",
        "\n",
        "with pd.ExcelWriter(output_file_path, engine='openpyxl') as writer:\n",
        "    summary_counts_df.to_excel(writer, sheet_name='Sheet1', index=False)\n",
        "\n",
        "# 생성된 파일 다운로드\n",
        "from google.colab import files\n",
        "files.download(output_file_path)"
      ],
      "metadata": {
        "colab": {
          "base_uri": "https://localhost:8080/",
          "height": 35
        },
        "id": "Oyn_uDphWPny",
        "outputId": "33ae8584-8823-49d7-9bc6-1c7392fcaa87"
      },
      "execution_count": null,
      "outputs": [
        {
          "output_type": "stream",
          "name": "stdout",
          "text": [
            "['Sheet1', 'Sheet2', 'Sheet3']\n"
          ]
        },
        {
          "output_type": "display_data",
          "data": {
            "text/plain": [
              "<IPython.core.display.Javascript object>"
            ],
            "application/javascript": [
              "\n",
              "    async function download(id, filename, size) {\n",
              "      if (!google.colab.kernel.accessAllowed) {\n",
              "        return;\n",
              "      }\n",
              "      const div = document.createElement('div');\n",
              "      const label = document.createElement('label');\n",
              "      label.textContent = `Downloading \"${filename}\": `;\n",
              "      div.appendChild(label);\n",
              "      const progress = document.createElement('progress');\n",
              "      progress.max = size;\n",
              "      div.appendChild(progress);\n",
              "      document.body.appendChild(div);\n",
              "\n",
              "      const buffers = [];\n",
              "      let downloaded = 0;\n",
              "\n",
              "      const channel = await google.colab.kernel.comms.open(id);\n",
              "      // Send a message to notify the kernel that we're ready.\n",
              "      channel.send({})\n",
              "\n",
              "      for await (const message of channel.messages) {\n",
              "        // Send a message to notify the kernel that we're ready.\n",
              "        channel.send({})\n",
              "        if (message.buffers) {\n",
              "          for (const buffer of message.buffers) {\n",
              "            buffers.push(buffer);\n",
              "            downloaded += buffer.byteLength;\n",
              "            progress.value = downloaded;\n",
              "          }\n",
              "        }\n",
              "      }\n",
              "      const blob = new Blob(buffers, {type: 'application/binary'});\n",
              "      const a = document.createElement('a');\n",
              "      a.href = window.URL.createObjectURL(blob);\n",
              "      a.download = filename;\n",
              "      div.appendChild(a);\n",
              "      a.click();\n",
              "      div.remove();\n",
              "    }\n",
              "  "
            ]
          },
          "metadata": {}
        },
        {
          "output_type": "display_data",
          "data": {
            "text/plain": [
              "<IPython.core.display.Javascript object>"
            ],
            "application/javascript": [
              "download(\"download_e1d05d2f-af0e-46ec-84b1-4bd2ff3e575b\", \"\\ub17c\\ubb38\\uc218_\\uad6c\\uac04\\ubcc4_\\ud559\\uc220\\uc9c0\\uc218.xlsx\", 5086)"
            ]
          },
          "metadata": {}
        }
      ]
    },
    {
      "cell_type": "code",
      "source": [
        "!pip install gspread\n",
        "!pip install pandas\n",
        "!pip install gdown\n",
        "!pip install openpyxl"
      ],
      "metadata": {
        "colab": {
          "base_uri": "https://localhost:8080/"
        },
        "id": "aJP6G_jhkhUN",
        "outputId": "596e911f-2a50-4847-e33b-1c18afd3b5de"
      },
      "execution_count": null,
      "outputs": [
        {
          "output_type": "stream",
          "name": "stdout",
          "text": [
            "Requirement already satisfied: gspread in /usr/local/lib/python3.10/dist-packages (6.0.2)\n",
            "Requirement already satisfied: google-auth>=1.12.0 in /usr/local/lib/python3.10/dist-packages (from gspread) (2.27.0)\n",
            "Requirement already satisfied: google-auth-oauthlib>=0.4.1 in /usr/local/lib/python3.10/dist-packages (from gspread) (1.2.0)\n",
            "Requirement already satisfied: StrEnum==0.4.15 in /usr/local/lib/python3.10/dist-packages (from gspread) (0.4.15)\n",
            "Requirement already satisfied: cachetools<6.0,>=2.0.0 in /usr/local/lib/python3.10/dist-packages (from google-auth>=1.12.0->gspread) (5.3.3)\n",
            "Requirement already satisfied: pyasn1-modules>=0.2.1 in /usr/local/lib/python3.10/dist-packages (from google-auth>=1.12.0->gspread) (0.4.0)\n",
            "Requirement already satisfied: rsa<5,>=3.1.4 in /usr/local/lib/python3.10/dist-packages (from google-auth>=1.12.0->gspread) (4.9)\n",
            "Requirement already satisfied: requests-oauthlib>=0.7.0 in /usr/local/lib/python3.10/dist-packages (from google-auth-oauthlib>=0.4.1->gspread) (1.3.1)\n",
            "Requirement already satisfied: pyasn1<0.7.0,>=0.4.6 in /usr/local/lib/python3.10/dist-packages (from pyasn1-modules>=0.2.1->google-auth>=1.12.0->gspread) (0.6.0)\n",
            "Requirement already satisfied: oauthlib>=3.0.0 in /usr/local/lib/python3.10/dist-packages (from requests-oauthlib>=0.7.0->google-auth-oauthlib>=0.4.1->gspread) (3.2.2)\n",
            "Requirement already satisfied: requests>=2.0.0 in /usr/local/lib/python3.10/dist-packages (from requests-oauthlib>=0.7.0->google-auth-oauthlib>=0.4.1->gspread) (2.31.0)\n",
            "Requirement already satisfied: charset-normalizer<4,>=2 in /usr/local/lib/python3.10/dist-packages (from requests>=2.0.0->requests-oauthlib>=0.7.0->google-auth-oauthlib>=0.4.1->gspread) (3.3.2)\n",
            "Requirement already satisfied: idna<4,>=2.5 in /usr/local/lib/python3.10/dist-packages (from requests>=2.0.0->requests-oauthlib>=0.7.0->google-auth-oauthlib>=0.4.1->gspread) (3.7)\n",
            "Requirement already satisfied: urllib3<3,>=1.21.1 in /usr/local/lib/python3.10/dist-packages (from requests>=2.0.0->requests-oauthlib>=0.7.0->google-auth-oauthlib>=0.4.1->gspread) (2.0.7)\n",
            "Requirement already satisfied: certifi>=2017.4.17 in /usr/local/lib/python3.10/dist-packages (from requests>=2.0.0->requests-oauthlib>=0.7.0->google-auth-oauthlib>=0.4.1->gspread) (2024.6.2)\n",
            "Requirement already satisfied: pandas in /usr/local/lib/python3.10/dist-packages (2.0.3)\n",
            "Requirement already satisfied: python-dateutil>=2.8.2 in /usr/local/lib/python3.10/dist-packages (from pandas) (2.8.2)\n",
            "Requirement already satisfied: pytz>=2020.1 in /usr/local/lib/python3.10/dist-packages (from pandas) (2023.4)\n",
            "Requirement already satisfied: tzdata>=2022.1 in /usr/local/lib/python3.10/dist-packages (from pandas) (2024.1)\n",
            "Requirement already satisfied: numpy>=1.21.0 in /usr/local/lib/python3.10/dist-packages (from pandas) (1.25.2)\n",
            "Requirement already satisfied: six>=1.5 in /usr/local/lib/python3.10/dist-packages (from python-dateutil>=2.8.2->pandas) (1.16.0)\n",
            "Requirement already satisfied: gdown in /usr/local/lib/python3.10/dist-packages (5.1.0)\n",
            "Requirement already satisfied: beautifulsoup4 in /usr/local/lib/python3.10/dist-packages (from gdown) (4.12.3)\n",
            "Requirement already satisfied: filelock in /usr/local/lib/python3.10/dist-packages (from gdown) (3.15.3)\n",
            "Requirement already satisfied: requests[socks] in /usr/local/lib/python3.10/dist-packages (from gdown) (2.31.0)\n",
            "Requirement already satisfied: tqdm in /usr/local/lib/python3.10/dist-packages (from gdown) (4.66.4)\n",
            "Requirement already satisfied: soupsieve>1.2 in /usr/local/lib/python3.10/dist-packages (from beautifulsoup4->gdown) (2.5)\n",
            "Requirement already satisfied: charset-normalizer<4,>=2 in /usr/local/lib/python3.10/dist-packages (from requests[socks]->gdown) (3.3.2)\n",
            "Requirement already satisfied: idna<4,>=2.5 in /usr/local/lib/python3.10/dist-packages (from requests[socks]->gdown) (3.7)\n",
            "Requirement already satisfied: urllib3<3,>=1.21.1 in /usr/local/lib/python3.10/dist-packages (from requests[socks]->gdown) (2.0.7)\n",
            "Requirement already satisfied: certifi>=2017.4.17 in /usr/local/lib/python3.10/dist-packages (from requests[socks]->gdown) (2024.6.2)\n",
            "Requirement already satisfied: PySocks!=1.5.7,>=1.5.6 in /usr/local/lib/python3.10/dist-packages (from requests[socks]->gdown) (1.7.1)\n",
            "Requirement already satisfied: openpyxl in /usr/local/lib/python3.10/dist-packages (3.1.4)\n",
            "Requirement already satisfied: et-xmlfile in /usr/local/lib/python3.10/dist-packages (from openpyxl) (1.1.0)\n"
          ]
        }
      ]
    },
    {
      "cell_type": "code",
      "source": [
        "import pandas as pd\n",
        "import gspread\n",
        "from google.colab import auth\n",
        "from google.auth import default\n",
        "\n",
        "# 인증\n",
        "auth.authenticate_user()\n",
        "creds, _ = default()\n",
        "gc = gspread.authorize(creds)"
      ],
      "metadata": {
        "colab": {
          "base_uri": "https://localhost:8080/",
          "height": 497
        },
        "id": "B4NkD90sls7M",
        "outputId": "3d36ebea-aee2-4bd4-bb53-56fcc270c645"
      },
      "execution_count": null,
      "outputs": [
        {
          "output_type": "error",
          "ename": "IllegalCharacterError",
          "evalue": "본 연구는 웹툰 \u0002미생\u0003의 웹드라마와 TV드라마로의 재매개 사례에 주목하여, 서사의 변형과 미디어 특성간의 관련성과 디지털서사의 특성을 살펴보았다. 분석 결과 작은 화면과 이동성, 짧은 상영시간을 특징으로 갖는 웹드라마는 이야기 차원의 통합체축에서는 에피소드의 특정과 단일 장르와 플롯⋅주제의 일반화를, 계열체축에서는 등장 인물의 세밀한 심리 묘사⋅관계의 단순화⋅시공간 한정을 통한 단순화와 압축화가 나타났다. 담화 차원에서는 연출자의 의도적 연출과 단편영화 같은 서사로 변형되었다. 반면 고화질의 대형 스크린과 시리즈물 형식인 드라마는 이야기의 통합체축에서는 에피소드 확대와 복합장르⋅멀티 플롯⋅주제의 입체화를, 계열체축에서는 명확한 인물 설정과 복잡한 인물 관계⋅극적 대립구도⋅충실한 시공간 재현⋅스펙터클한 배경을 통한 복잡하고 확장된 이야기로 변화되었다. 담화 차원에서는 반복적인 인물의 시선, 의도성과 자연스러움이 조화된 연출 방식으로 하이엔드 드라마⋅영화 같은 서사 변형을 보였다. 한편 재매개 과정에서 디지털 서사는 트랜스미디어 스토리텔링의 가능성과, 다중매체성과 표현력 확장으로 담화 차원의 개선이 나타났다. cannot be used in worksheets.",
          "traceback": [
            "\u001b[0;31m---------------------------------------------------------------------------\u001b[0m",
            "\u001b[0;31mIllegalCharacterError\u001b[0m                     Traceback (most recent call last)",
            "\u001b[0;32m<ipython-input-45-2f5728c18ab8>\u001b[0m in \u001b[0;36m<cell line: 33>\u001b[0;34m()\u001b[0m\n\u001b[1;32m     31\u001b[0m \u001b[0;31m# 결과를 엑셀 파일로 저장\u001b[0m\u001b[0;34m\u001b[0m\u001b[0;34m\u001b[0m\u001b[0m\n\u001b[1;32m     32\u001b[0m \u001b[0moutput_file_path\u001b[0m \u001b[0;34m=\u001b[0m \u001b[0;34m'webtoon_with_unique_journal_names.xlsx'\u001b[0m\u001b[0;34m\u001b[0m\u001b[0;34m\u001b[0m\u001b[0m\n\u001b[0;32m---> 33\u001b[0;31m \u001b[0mdf\u001b[0m\u001b[0;34m.\u001b[0m\u001b[0mto_excel\u001b[0m\u001b[0;34m(\u001b[0m\u001b[0moutput_file_path\u001b[0m\u001b[0;34m,\u001b[0m \u001b[0msheet_name\u001b[0m\u001b[0;34m=\u001b[0m\u001b[0;34m'보완 서지정보'\u001b[0m\u001b[0;34m,\u001b[0m \u001b[0mindex\u001b[0m\u001b[0;34m=\u001b[0m\u001b[0;32mFalse\u001b[0m\u001b[0;34m)\u001b[0m\u001b[0;34m\u001b[0m\u001b[0;34m\u001b[0m\u001b[0m\n\u001b[0m\u001b[1;32m     34\u001b[0m \u001b[0;34m\u001b[0m\u001b[0m\n\u001b[1;32m     35\u001b[0m \u001b[0;31m# 생성된 파일 다운로드\u001b[0m\u001b[0;34m\u001b[0m\u001b[0;34m\u001b[0m\u001b[0m\n",
            "\u001b[0;32m/usr/local/lib/python3.10/dist-packages/pandas/core/generic.py\u001b[0m in \u001b[0;36mto_excel\u001b[0;34m(self, excel_writer, sheet_name, na_rep, float_format, columns, header, index, index_label, startrow, startcol, engine, merge_cells, inf_rep, freeze_panes, storage_options)\u001b[0m\n\u001b[1;32m   2250\u001b[0m             \u001b[0minf_rep\u001b[0m\u001b[0;34m=\u001b[0m\u001b[0minf_rep\u001b[0m\u001b[0;34m,\u001b[0m\u001b[0;34m\u001b[0m\u001b[0;34m\u001b[0m\u001b[0m\n\u001b[1;32m   2251\u001b[0m         )\n\u001b[0;32m-> 2252\u001b[0;31m         formatter.write(\n\u001b[0m\u001b[1;32m   2253\u001b[0m             \u001b[0mexcel_writer\u001b[0m\u001b[0;34m,\u001b[0m\u001b[0;34m\u001b[0m\u001b[0;34m\u001b[0m\u001b[0m\n\u001b[1;32m   2254\u001b[0m             \u001b[0msheet_name\u001b[0m\u001b[0;34m=\u001b[0m\u001b[0msheet_name\u001b[0m\u001b[0;34m,\u001b[0m\u001b[0;34m\u001b[0m\u001b[0;34m\u001b[0m\u001b[0m\n",
            "\u001b[0;32m/usr/local/lib/python3.10/dist-packages/pandas/io/formats/excel.py\u001b[0m in \u001b[0;36mwrite\u001b[0;34m(self, writer, sheet_name, startrow, startcol, freeze_panes, engine, storage_options)\u001b[0m\n\u001b[1;32m    938\u001b[0m \u001b[0;34m\u001b[0m\u001b[0m\n\u001b[1;32m    939\u001b[0m         \u001b[0;32mtry\u001b[0m\u001b[0;34m:\u001b[0m\u001b[0;34m\u001b[0m\u001b[0;34m\u001b[0m\u001b[0m\n\u001b[0;32m--> 940\u001b[0;31m             writer._write_cells(\n\u001b[0m\u001b[1;32m    941\u001b[0m                 \u001b[0mformatted_cells\u001b[0m\u001b[0;34m,\u001b[0m\u001b[0;34m\u001b[0m\u001b[0;34m\u001b[0m\u001b[0m\n\u001b[1;32m    942\u001b[0m                 \u001b[0msheet_name\u001b[0m\u001b[0;34m,\u001b[0m\u001b[0;34m\u001b[0m\u001b[0;34m\u001b[0m\u001b[0m\n",
            "\u001b[0;32m/usr/local/lib/python3.10/dist-packages/pandas/io/excel/_openpyxl.py\u001b[0m in \u001b[0;36m_write_cells\u001b[0;34m(self, cells, sheet_name, startrow, startcol, freeze_panes)\u001b[0m\n\u001b[1;32m    487\u001b[0m                 \u001b[0mrow\u001b[0m\u001b[0;34m=\u001b[0m\u001b[0mstartrow\u001b[0m \u001b[0;34m+\u001b[0m \u001b[0mcell\u001b[0m\u001b[0;34m.\u001b[0m\u001b[0mrow\u001b[0m \u001b[0;34m+\u001b[0m \u001b[0;36m1\u001b[0m\u001b[0;34m,\u001b[0m \u001b[0mcolumn\u001b[0m\u001b[0;34m=\u001b[0m\u001b[0mstartcol\u001b[0m \u001b[0;34m+\u001b[0m \u001b[0mcell\u001b[0m\u001b[0;34m.\u001b[0m\u001b[0mcol\u001b[0m \u001b[0;34m+\u001b[0m \u001b[0;36m1\u001b[0m\u001b[0;34m\u001b[0m\u001b[0;34m\u001b[0m\u001b[0m\n\u001b[1;32m    488\u001b[0m             )\n\u001b[0;32m--> 489\u001b[0;31m             \u001b[0mxcell\u001b[0m\u001b[0;34m.\u001b[0m\u001b[0mvalue\u001b[0m\u001b[0;34m,\u001b[0m \u001b[0mfmt\u001b[0m \u001b[0;34m=\u001b[0m \u001b[0mself\u001b[0m\u001b[0;34m.\u001b[0m\u001b[0m_value_with_fmt\u001b[0m\u001b[0;34m(\u001b[0m\u001b[0mcell\u001b[0m\u001b[0;34m.\u001b[0m\u001b[0mval\u001b[0m\u001b[0;34m)\u001b[0m\u001b[0;34m\u001b[0m\u001b[0;34m\u001b[0m\u001b[0m\n\u001b[0m\u001b[1;32m    490\u001b[0m             \u001b[0;32mif\u001b[0m \u001b[0mfmt\u001b[0m\u001b[0;34m:\u001b[0m\u001b[0;34m\u001b[0m\u001b[0;34m\u001b[0m\u001b[0m\n\u001b[1;32m    491\u001b[0m                 \u001b[0mxcell\u001b[0m\u001b[0;34m.\u001b[0m\u001b[0mnumber_format\u001b[0m \u001b[0;34m=\u001b[0m \u001b[0mfmt\u001b[0m\u001b[0;34m\u001b[0m\u001b[0;34m\u001b[0m\u001b[0m\n",
            "\u001b[0;32m/usr/local/lib/python3.10/dist-packages/openpyxl/cell/cell.py\u001b[0m in \u001b[0;36mvalue\u001b[0;34m(self, value)\u001b[0m\n\u001b[1;32m    216\u001b[0m     \u001b[0;32mdef\u001b[0m \u001b[0mvalue\u001b[0m\u001b[0;34m(\u001b[0m\u001b[0mself\u001b[0m\u001b[0;34m,\u001b[0m \u001b[0mvalue\u001b[0m\u001b[0;34m)\u001b[0m\u001b[0;34m:\u001b[0m\u001b[0;34m\u001b[0m\u001b[0;34m\u001b[0m\u001b[0m\n\u001b[1;32m    217\u001b[0m         \u001b[0;34m\"\"\"Set the value and infer type and display options.\"\"\"\u001b[0m\u001b[0;34m\u001b[0m\u001b[0;34m\u001b[0m\u001b[0m\n\u001b[0;32m--> 218\u001b[0;31m         \u001b[0mself\u001b[0m\u001b[0;34m.\u001b[0m\u001b[0m_bind_value\u001b[0m\u001b[0;34m(\u001b[0m\u001b[0mvalue\u001b[0m\u001b[0;34m)\u001b[0m\u001b[0;34m\u001b[0m\u001b[0;34m\u001b[0m\u001b[0m\n\u001b[0m\u001b[1;32m    219\u001b[0m \u001b[0;34m\u001b[0m\u001b[0m\n\u001b[1;32m    220\u001b[0m     \u001b[0;34m@\u001b[0m\u001b[0mproperty\u001b[0m\u001b[0;34m\u001b[0m\u001b[0;34m\u001b[0m\u001b[0m\n",
            "\u001b[0;32m/usr/local/lib/python3.10/dist-packages/openpyxl/cell/cell.py\u001b[0m in \u001b[0;36m_bind_value\u001b[0;34m(self, value)\u001b[0m\n\u001b[1;32m    195\u001b[0m \u001b[0;34m\u001b[0m\u001b[0m\n\u001b[1;32m    196\u001b[0m         \u001b[0;32melif\u001b[0m \u001b[0mdt\u001b[0m \u001b[0;34m==\u001b[0m \u001b[0;34m\"s\"\u001b[0m \u001b[0;32mand\u001b[0m \u001b[0;32mnot\u001b[0m \u001b[0misinstance\u001b[0m\u001b[0;34m(\u001b[0m\u001b[0mvalue\u001b[0m\u001b[0;34m,\u001b[0m \u001b[0mCellRichText\u001b[0m\u001b[0;34m)\u001b[0m\u001b[0;34m:\u001b[0m\u001b[0;34m\u001b[0m\u001b[0;34m\u001b[0m\u001b[0m\n\u001b[0;32m--> 197\u001b[0;31m             \u001b[0mvalue\u001b[0m \u001b[0;34m=\u001b[0m \u001b[0mself\u001b[0m\u001b[0;34m.\u001b[0m\u001b[0mcheck_string\u001b[0m\u001b[0;34m(\u001b[0m\u001b[0mvalue\u001b[0m\u001b[0;34m)\u001b[0m\u001b[0;34m\u001b[0m\u001b[0;34m\u001b[0m\u001b[0m\n\u001b[0m\u001b[1;32m    198\u001b[0m             \u001b[0;32mif\u001b[0m \u001b[0mlen\u001b[0m\u001b[0;34m(\u001b[0m\u001b[0mvalue\u001b[0m\u001b[0;34m)\u001b[0m \u001b[0;34m>\u001b[0m \u001b[0;36m1\u001b[0m \u001b[0;32mand\u001b[0m \u001b[0mvalue\u001b[0m\u001b[0;34m.\u001b[0m\u001b[0mstartswith\u001b[0m\u001b[0;34m(\u001b[0m\u001b[0;34m\"=\"\u001b[0m\u001b[0;34m)\u001b[0m\u001b[0;34m:\u001b[0m\u001b[0;34m\u001b[0m\u001b[0;34m\u001b[0m\u001b[0m\n\u001b[1;32m    199\u001b[0m                 \u001b[0mself\u001b[0m\u001b[0;34m.\u001b[0m\u001b[0mdata_type\u001b[0m \u001b[0;34m=\u001b[0m \u001b[0;34m'f'\u001b[0m\u001b[0;34m\u001b[0m\u001b[0;34m\u001b[0m\u001b[0m\n",
            "\u001b[0;32m/usr/local/lib/python3.10/dist-packages/openpyxl/cell/cell.py\u001b[0m in \u001b[0;36mcheck_string\u001b[0;34m(self, value)\u001b[0m\n\u001b[1;32m    163\u001b[0m         \u001b[0mvalue\u001b[0m \u001b[0;34m=\u001b[0m \u001b[0mvalue\u001b[0m\u001b[0;34m[\u001b[0m\u001b[0;34m:\u001b[0m\u001b[0;36m32767\u001b[0m\u001b[0;34m]\u001b[0m\u001b[0;34m\u001b[0m\u001b[0;34m\u001b[0m\u001b[0m\n\u001b[1;32m    164\u001b[0m         \u001b[0;32mif\u001b[0m \u001b[0mnext\u001b[0m\u001b[0;34m(\u001b[0m\u001b[0mILLEGAL_CHARACTERS_RE\u001b[0m\u001b[0;34m.\u001b[0m\u001b[0mfinditer\u001b[0m\u001b[0;34m(\u001b[0m\u001b[0mvalue\u001b[0m\u001b[0;34m)\u001b[0m\u001b[0;34m,\u001b[0m \u001b[0;32mNone\u001b[0m\u001b[0;34m)\u001b[0m\u001b[0;34m:\u001b[0m\u001b[0;34m\u001b[0m\u001b[0;34m\u001b[0m\u001b[0m\n\u001b[0;32m--> 165\u001b[0;31m             \u001b[0;32mraise\u001b[0m \u001b[0mIllegalCharacterError\u001b[0m\u001b[0;34m(\u001b[0m\u001b[0;34mf\"{value} cannot be used in worksheets.\"\u001b[0m\u001b[0;34m)\u001b[0m\u001b[0;34m\u001b[0m\u001b[0;34m\u001b[0m\u001b[0m\n\u001b[0m\u001b[1;32m    166\u001b[0m         \u001b[0;32mreturn\u001b[0m \u001b[0mvalue\u001b[0m\u001b[0;34m\u001b[0m\u001b[0;34m\u001b[0m\u001b[0m\n\u001b[1;32m    167\u001b[0m \u001b[0;34m\u001b[0m\u001b[0m\n",
            "\u001b[0;31mIllegalCharacterError\u001b[0m: 본 연구는 웹툰 \u0002미생\u0003의 웹드라마와 TV드라마로의 재매개 사례에 주목하여, 서사의 변형과 미디어 특성간의 관련성과 디지털서사의 특성을 살펴보았다. 분석 결과 작은 화면과 이동성, 짧은 상영시간을 특징으로 갖는 웹드라마는 이야기 차원의 통합체축에서는 에피소드의 특정과 단일 장르와 플롯⋅주제의 일반화를, 계열체축에서는 등장 인물의 세밀한 심리 묘사⋅관계의 단순화⋅시공간 한정을 통한 단순화와 압축화가 나타났다. 담화 차원에서는 연출자의 의도적 연출과 단편영화 같은 서사로 변형되었다. 반면 고화질의 대형 스크린과 시리즈물 형식인 드라마는 이야기의 통합체축에서는 에피소드 확대와 복합장르⋅멀티 플롯⋅주제의 입체화를, 계열체축에서는 명확한 인물 설정과 복잡한 인물 관계⋅극적 대립구도⋅충실한 시공간 재현⋅스펙터클한 배경을 통한 복잡하고 확장된 이야기로 변화되었다. 담화 차원에서는 반복적인 인물의 시선, 의도성과 자연스러움이 조화된 연출 방식으로 하이엔드 드라마⋅영화 같은 서사 변형을 보였다. 한편 재매개 과정에서 디지털 서사는 트랜스미디어 스토리텔링의 가능성과, 다중매체성과 표현력 확장으로 담화 차원의 개선이 나타났다. cannot be used in worksheets."
          ]
        }
      ]
    },
    {
      "cell_type": "code",
      "source": [
        "# Google Sheets 파일 불러오기\n",
        "spreadsheet_id = '1zSQmuXPDgIP8dNm2F6_x3AtksZY_SFJlrrsa4rAMSuo'\n",
        "spreadsheet = gc.open_by_key(spreadsheet_id)\n",
        "\n",
        "# '보완 서지정보' 시트 불러오기\n",
        "worksheet = spreadsheet.worksheet('보완 서지정보')\n",
        "\n",
        "# F열(학술지명)과 J열(발행기관명)만 가져오기\n",
        "journal_names = worksheet.col_values(6)  # F열이 6번째 열\n",
        "institutions = worksheet.col_values(10)  # J열이 10번째 열\n",
        "\n",
        "# 첫 번째 행(헤더)을 제외한 데이터 결합\n",
        "unique_journal_names = [\"고유 학술지명\"] + [f\"{inst} - {journal}\" for inst, journal in zip(institutions[1:], journal_names[1:])]\n",
        "\n",
        "# Q열(17번째 열)에 데이터 업데이트\n",
        "worksheet.update('Q1:Q' + str(len(unique_journal_names)), [[name] for name in unique_journal_names])"
      ],
      "metadata": {
        "colab": {
          "base_uri": "https://localhost:8080/"
        },
        "id": "cGS7UG2GpSRr",
        "outputId": "6cde65b1-a1d8-4944-9877-94cd1989f3fa"
      },
      "execution_count": null,
      "outputs": [
        {
          "output_type": "stream",
          "name": "stderr",
          "text": [
            "<ipython-input-46-e5c2102259a3>:16: DeprecationWarning: The order of arguments in worksheet.update() has changed. Please pass values first and range_name secondor used named arguments (range_name=, values=)\n",
            "  worksheet.update('Q1:Q' + str(len(unique_journal_names)), [[name] for name in unique_journal_names])\n"
          ]
        },
        {
          "output_type": "execute_result",
          "data": {
            "text/plain": [
              "{'spreadsheetId': '1zSQmuXPDgIP8dNm2F6_x3AtksZY_SFJlrrsa4rAMSuo',\n",
              " 'updatedRange': \"'보완 서지정보'!Q1:Q671\",\n",
              " 'updatedRows': 671,\n",
              " 'updatedColumns': 1,\n",
              " 'updatedCells': 671}"
            ]
          },
          "metadata": {},
          "execution_count": 46
        }
      ]
    },
    {
      "cell_type": "code",
      "source": [
        "# Q열(고유 학술지명)과 K열(발행연도)만 가져오기\n",
        "unique_journal_names = worksheet.col_values(17)  # Q열이 17번째 열\n",
        "publish_years = worksheet.col_values(11)  # K열이 11번째 열\n",
        "\n",
        "# 첫 번째 행(헤더)을 제외한 데이터 가져오기\n",
        "unique_journal_names = unique_journal_names[1:]\n",
        "publish_years = publish_years[1:]\n",
        "\n",
        "# 데이터프레임으로 변환\n",
        "df = pd.DataFrame({\n",
        "    '고유 학술지명': unique_journal_names,\n",
        "    '발행연도': publish_years\n",
        "})\n",
        "\n",
        "# 발행연도별 고유 학술지명 수 집계\n",
        "yearly_journal_counts = df.groupby('발행연도')['고유 학술지명'].nunique().reset_index()\n",
        "yearly_journal_counts.columns = ['발행연도', '논문 발행 학술지 수']\n",
        "\n",
        "# 결과를 출력\n",
        "print(yearly_journal_counts)\n",
        "\n",
        "# 결과를 엑셀 파일로 저장\n",
        "output_file_path = 'yearly_journal_counts.xlsx'\n",
        "yearly_journal_counts.to_excel(output_file_path, index=False)\n",
        "\n",
        "# 생성된 파일 다운로드\n",
        "from google.colab import files\n",
        "files.download(output_file_path)"
      ],
      "metadata": {
        "colab": {
          "base_uri": "https://localhost:8080/",
          "height": 398
        },
        "id": "ZZ9Lr_Q9taxu",
        "outputId": "f8a92dcd-6e7e-4eb3-fc8c-c9bac59b01ae"
      },
      "execution_count": null,
      "outputs": [
        {
          "output_type": "stream",
          "name": "stdout",
          "text": [
            "    발행연도  논문 발행 학술지 수\n",
            "0   2003            1\n",
            "1   2004            1\n",
            "2   2006            1\n",
            "3   2007            5\n",
            "4   2008            2\n",
            "5   2009            5\n",
            "6   2010            3\n",
            "7   2011            9\n",
            "8   2012           11\n",
            "9   2013            7\n",
            "10  2014           19\n",
            "11  2015           28\n",
            "12  2016           26\n",
            "13  2017           39\n",
            "14  2018           45\n",
            "15  2019           48\n",
            "16  2020           44\n",
            "17  2021           51\n",
            "18  2022           62\n",
            "19  2023           70\n"
          ]
        },
        {
          "output_type": "display_data",
          "data": {
            "text/plain": [
              "<IPython.core.display.Javascript object>"
            ],
            "application/javascript": [
              "\n",
              "    async function download(id, filename, size) {\n",
              "      if (!google.colab.kernel.accessAllowed) {\n",
              "        return;\n",
              "      }\n",
              "      const div = document.createElement('div');\n",
              "      const label = document.createElement('label');\n",
              "      label.textContent = `Downloading \"${filename}\": `;\n",
              "      div.appendChild(label);\n",
              "      const progress = document.createElement('progress');\n",
              "      progress.max = size;\n",
              "      div.appendChild(progress);\n",
              "      document.body.appendChild(div);\n",
              "\n",
              "      const buffers = [];\n",
              "      let downloaded = 0;\n",
              "\n",
              "      const channel = await google.colab.kernel.comms.open(id);\n",
              "      // Send a message to notify the kernel that we're ready.\n",
              "      channel.send({})\n",
              "\n",
              "      for await (const message of channel.messages) {\n",
              "        // Send a message to notify the kernel that we're ready.\n",
              "        channel.send({})\n",
              "        if (message.buffers) {\n",
              "          for (const buffer of message.buffers) {\n",
              "            buffers.push(buffer);\n",
              "            downloaded += buffer.byteLength;\n",
              "            progress.value = downloaded;\n",
              "          }\n",
              "        }\n",
              "      }\n",
              "      const blob = new Blob(buffers, {type: 'application/binary'});\n",
              "      const a = document.createElement('a');\n",
              "      a.href = window.URL.createObjectURL(blob);\n",
              "      a.download = filename;\n",
              "      div.appendChild(a);\n",
              "      a.click();\n",
              "      div.remove();\n",
              "    }\n",
              "  "
            ]
          },
          "metadata": {}
        },
        {
          "output_type": "display_data",
          "data": {
            "text/plain": [
              "<IPython.core.display.Javascript object>"
            ],
            "application/javascript": [
              "download(\"download_be382771-821c-4d78-bbe4-f53684a9f0f6\", \"yearly_journal_counts.xlsx\", 5260)"
            ]
          },
          "metadata": {}
        }
      ]
    },
    {
      "cell_type": "code",
      "source": [],
      "metadata": {
        "id": "DmlM5xxrxkqQ"
      },
      "execution_count": null,
      "outputs": []
    }
  ]
}